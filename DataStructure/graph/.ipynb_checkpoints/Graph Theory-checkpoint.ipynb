{
 "cells": [
  {
   "cell_type": "markdown",
   "metadata": {},
   "source": [
    "# Basic Graph Thoery INSERTION & TRAVERSAL USING Dictionary"
   ]
  },
  {
   "cell_type": "code",
   "execution_count": 7,
   "metadata": {},
   "outputs": [],
   "source": [
    "from collections import OrderedDict\n",
    "class graphByMatrix:\n",
    "    graph=OrderedDict()\n",
    "    def matrixStore(self,x):\n",
    "        for _ in range(x):\n",
    "            x,y=map(int,input().split())\n",
    "            if self.graph.__contains__(x):\n",
    "                self.graph[x].append(y)\n",
    "            else:\n",
    "                self.graph[x]=[y]\n",
    "    def matrixTraversal(self):\n",
    "        print(self.graph)\n",
    "        for i in self.graph:\n",
    "            print(i,\"=>\",self.graph[i])"
   ]
  },
  {
   "cell_type": "code",
   "execution_count": 8,
   "metadata": {},
   "outputs": [
    {
     "name": "stdout",
     "output_type": "stream",
     "text": [
      "5\n",
      "0 2\n",
      "2 1\n",
      "2 4\n",
      "4 1\n",
      "1 3\n",
      "OrderedDict([(0, [2]), (2, [1, 4]), (4, [1]), (1, [3])])\n",
      "0 => [2]\n",
      "2 => [1, 4]\n",
      "4 => [1]\n",
      "1 => [3]\n"
     ]
    }
   ],
   "source": [
    "x=graphByMatrix()\n",
    "r=int(input())\n",
    "x.matrixStore(r)\n",
    "x.matrixTraversal()"
   ]
  },
  {
   "cell_type": "markdown",
   "metadata": {},
   "source": [
    "# Basic Graph Thoery INSERTION & TRAVERSAL USING Matrix"
   ]
  },
  {
   "cell_type": "code",
   "execution_count": 18,
   "metadata": {},
   "outputs": [
    {
     "name": "stdout",
     "output_type": "stream",
     "text": [
      "Enter the number5\n",
      "0 2\n",
      "2 1\n",
      "2 4\n",
      "4 1\n",
      "1 3\n",
      "[[0. 0. 1. 0. 0.]\n",
      " [0. 0. 0. 1. 0.]\n",
      " [0. 1. 0. 0. 1.]\n",
      " [0. 0. 0. 0. 0.]\n",
      " [0. 1. 0. 0. 0.]]\n"
     ]
    }
   ],
   "source": [
    "import numpy\n",
    "i = int(input('Enter the number'))\n",
    "a = numpy.zeros(shape=(i,i))\n",
    "for _ in range(i):\n",
    "    x,y=map(int,input().split())\n",
    "    a[x][y]=1\n",
    "print(a)"
   ]
  },
  {
   "cell_type": "code",
   "execution_count": null,
   "metadata": {},
   "outputs": [],
   "source": []
  },
  {
   "cell_type": "code",
   "execution_count": null,
   "metadata": {},
   "outputs": [],
   "source": []
  }
 ],
 "metadata": {
  "kernelspec": {
   "display_name": "Python 3",
   "language": "python",
   "name": "python3"
  },
  "language_info": {
   "codemirror_mode": {
    "name": "ipython",
    "version": 3
   },
   "file_extension": ".py",
   "mimetype": "text/x-python",
   "name": "python",
   "nbconvert_exporter": "python",
   "pygments_lexer": "ipython3",
   "version": "3.7.5"
  }
 },
 "nbformat": 4,
 "nbformat_minor": 4
}
