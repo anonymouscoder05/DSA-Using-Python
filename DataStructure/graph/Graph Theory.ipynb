{
 "cells": [
  {
   "cell_type": "markdown",
   "metadata": {},
   "source": [
    "# Basic Graph Thoery INSERTION & TRAVERSAL USING Dictionary"
   ]
  },
  {
   "cell_type": "code",
   "execution_count": 15,
   "metadata": {},
   "outputs": [],
   "source": [
    "from collections import OrderedDict\n",
    "from typing import Dict,List\n",
    "class graphByMatrix:\n",
    "    graph:Dict[int,List[int]]=OrderedDict()\n",
    "    def matrixStore(self,x):\n",
    "        for _ in range(x):\n",
    "            x,y=map(int,input().split())\n",
    "            if self.graph.__contains__(x):\n",
    "                self.graph[x].append(y)\n",
    "            else:\n",
    "                self.graph[x]=[y]\n",
    "    def matrixTraversal(self):\n",
    "        print(self.graph)\n",
    "        for i in self.graph:\n",
    "            print(i,\"=>\",self.graph[i])"
   ]
  },
  {
   "cell_type": "code",
   "execution_count": 16,
   "metadata": {},
   "outputs": [
    {
     "name": "stdout",
     "output_type": "stream",
     "text": [
      "5\n",
      "2 3\n",
      "2 1\n",
      "1 5\n",
      "3 4\n",
      "4 5\n",
      "OrderedDict([(2, [3, 1]), (1, [5]), (3, [4]), (4, [5])])\n",
      "2 => [3, 1]\n",
      "1 => [5]\n",
      "3 => [4]\n",
      "4 => [5]\n"
     ]
    }
   ],
   "source": [
    "x=graphByMatrix()\n",
    "r=int(input())\n",
    "x.matrixStore(r)\n",
    "x.matrixTraversal()"
   ]
  },
  {
   "cell_type": "markdown",
   "metadata": {},
   "source": [
    "# Basic Graph Thoery INSERTION & TRAVERSAL USING Matrix"
   ]
  },
  {
   "cell_type": "code",
   "execution_count": 18,
   "metadata": {},
   "outputs": [
    {
     "name": "stdout",
     "output_type": "stream",
     "text": [
      "Enter the number5\n",
      "0 2\n",
      "2 1\n",
      "2 4\n",
      "4 1\n",
      "1 3\n",
      "[[0. 0. 1. 0. 0.]\n",
      " [0. 0. 0. 1. 0.]\n",
      " [0. 1. 0. 0. 1.]\n",
      " [0. 0. 0. 0. 0.]\n",
      " [0. 1. 0. 0. 0.]]\n"
     ]
    }
   ],
   "source": [
    "import numpy\n",
    "i = int(input('Enter the number'))\n",
    "a = numpy.zeros(shape=(i,i))\n",
    "for _ in range(i):\n",
    "    x,y=map(int,input().split())\n",
    "    a[x][y]=1\n",
    "print(a)"
   ]
  },
  {
   "cell_type": "markdown",
   "metadata": {},
   "source": [
    "# BFS TRAVERSAL"
   ]
  },
  {
   "cell_type": "code",
   "execution_count": 40,
   "metadata": {},
   "outputs": [
    {
     "name": "stdout",
     "output_type": "stream",
     "text": [
      "2\n",
      "3\n",
      "1\n",
      "4\n",
      "5\n"
     ]
    }
   ],
   "source": [
    "import numpy\n",
    "from collections import deque\n",
    "li=numpy.zeros(shape=(15))\n",
    "key=list(x.graph.keys())\n",
    "queue=deque()\n",
    "queue.append(key[0])\n",
    "while queue:\n",
    "    temp=queue.popleft()\n",
    "    if x.graph.__contains__(temp):\n",
    "        queue.extend(x.graph[temp])\n",
    "    if li[temp]==0:\n",
    "        print(temp)\n",
    "        li[temp]=1"
   ]
  },
  {
   "cell_type": "markdown",
   "metadata": {},
   "source": [
    "# DFS TRAVERSAL"
   ]
  },
  {
   "cell_type": "code",
   "execution_count": null,
   "metadata": {},
   "outputs": [],
   "source": []
  }
 ],
 "metadata": {
  "kernelspec": {
   "display_name": "Python 3",
   "language": "python",
   "name": "python3"
  },
  "language_info": {
   "codemirror_mode": {
    "name": "ipython",
    "version": 3
   },
   "file_extension": ".py",
   "mimetype": "text/x-python",
   "name": "python",
   "nbconvert_exporter": "python",
   "pygments_lexer": "ipython3",
   "version": "3.7.5"
  }
 },
 "nbformat": 4,
 "nbformat_minor": 4
}
