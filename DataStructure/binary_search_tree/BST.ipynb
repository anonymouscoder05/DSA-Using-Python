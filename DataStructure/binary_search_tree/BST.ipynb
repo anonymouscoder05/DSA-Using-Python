{
 "cells": [
  {
   "cell_type": "code",
   "execution_count": 11,
   "metadata": {},
   "outputs": [],
   "source": [
    "class Node:\n",
    "    def __init__(self,val):\n",
    "        self.val=val\n",
    "        self.left=None\n",
    "        self.right=None\n"
   ]
  },
  {
   "cell_type": "code",
   "execution_count": 165,
   "metadata": {},
   "outputs": [],
   "source": [
    "from collections import deque\n",
    "class BST:\n",
    "    def __init__(self,val):\n",
    "        self.root=Node(val)\n",
    "    def insertElement(self,val):\n",
    "        temp=self.root\n",
    "        while val:\n",
    "            if val>temp.val:\n",
    "                if temp.right==None:\n",
    "                    temp.right=Node(val)\n",
    "#                     print('right',temp.right.val)\n",
    "                    val=None\n",
    "                else:\n",
    "                    temp=temp.right\n",
    "            elif val<temp.val:\n",
    "                if temp.left==None:\n",
    "                    temp.left=Node(val)\n",
    "#                     print('left',temp.left.val)\n",
    "                    val=None\n",
    "                else:\n",
    "                    temp=temp.left\n",
    "            else:\n",
    "                pass\n",
    "    def deleteElement(self,val):\n",
    "        \"\"\"\n",
    "            Inorder predeseccesor approach after deleting element\n",
    "        \"\"\"\n",
    "        "
   ]
  },
  {
   "cell_type": "code",
   "execution_count": 166,
   "metadata": {},
   "outputs": [
    {
     "name": "stdout",
     "output_type": "stream",
     "text": [
      "Enter Elements13 3 14 4 18 2 12\n",
      "delete left\n",
      "delete left\n",
      "4\n",
      "4\n"
     ]
    }
   ],
   "source": [
    "a=BST(8)\n",
    "x=list(map(int,input('Enter Elements').split()))\n",
    "for i in x:\n",
    "    a.insertElement(i)\n",
    "# print(a.root.right.val)\n",
    "print(a.root.left.val)\n",
    "print(a.root.left.right.val)"
   ]
  },
  {
   "cell_type": "code",
   "execution_count": 159,
   "metadata": {},
   "outputs": [
    {
     "ename": "SyntaxError",
     "evalue": "invalid syntax (<ipython-input-159-5c9a62638b24>, line 1)",
     "output_type": "error",
     "traceback": [
      "\u001b[0;36m  File \u001b[0;32m\"<ipython-input-159-5c9a62638b24>\"\u001b[0;36m, line \u001b[0;32m1\u001b[0m\n\u001b[0;31m    13 3 14 4 18 2 12\u001b[0m\n\u001b[0m       ^\u001b[0m\n\u001b[0;31mSyntaxError\u001b[0m\u001b[0;31m:\u001b[0m invalid syntax\n"
     ]
    }
   ],
   "source": [
    "13 3 14 4 18 2 12"
   ]
  },
  {
   "cell_type": "code",
   "execution_count": null,
   "metadata": {},
   "outputs": [],
   "source": []
  },
  {
   "cell_type": "code",
   "execution_count": null,
   "metadata": {},
   "outputs": [],
   "source": []
  }
 ],
 "metadata": {
  "kernelspec": {
   "display_name": "Python 3",
   "language": "python",
   "name": "python3"
  },
  "language_info": {
   "codemirror_mode": {
    "name": "ipython",
    "version": 3
   },
   "file_extension": ".py",
   "mimetype": "text/x-python",
   "name": "python",
   "nbconvert_exporter": "python",
   "pygments_lexer": "ipython3",
   "version": "3.7.5"
  }
 },
 "nbformat": 4,
 "nbformat_minor": 4
}
