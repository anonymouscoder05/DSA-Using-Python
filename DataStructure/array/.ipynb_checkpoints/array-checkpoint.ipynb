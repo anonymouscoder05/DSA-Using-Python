{
 "cells": [
  {
   "cell_type": "markdown",
   "metadata": {},
   "source": [
    "# 1. Find the duplicate in an array of N integers  in O(1)space"
   ]
  },
  {
   "cell_type": "code",
   "execution_count": 120,
   "metadata": {},
   "outputs": [],
   "source": [
    "def find_duplicates(arr,l):\n",
    "    for i in range(l):\n",
    "        arr[arr[i]%l]=arr[arr[i]%l]+l\n",
    "    for i in range(l):\n",
    "        if arr[i]//l>1:\n",
    "            print(i,end=\" \")"
   ]
  },
  {
   "cell_type": "code",
   "execution_count": 131,
   "metadata": {},
   "outputs": [
    {
     "name": "stdout",
     "output_type": "stream",
     "text": [
      "0 1 3 6 "
     ]
    }
   ],
   "source": [
    "arr=list(map(lambda x:int(x),input(\"Enter the elements of the array:\").split()))\n",
    "length=len(arr)\n",
    "find_duplicates(arr,length)"
   ]
  },
  {
   "cell_type": "markdown",
   "metadata": {},
   "source": [
    "# Remove Duplicates from Sorted Array in O(1) space"
   ]
  },
  {
   "cell_type": "code",
   "execution_count": 183,
   "metadata": {},
   "outputs": [],
   "source": [
    "def remove_duplicates(arr,l):\n",
    "    i=0\n",
    "    while i<len(arr)-1:\n",
    "        try:\n",
    "            if arr[i]==arr[i+1]:\n",
    "                arr.pop(i)\n",
    "            else:\n",
    "                i+=1 \n",
    "        except:\n",
    "            print(i)\n",
    "            break\n",
    "    print(arr)"
   ]
  },
  {
   "cell_type": "code",
   "execution_count": 189,
   "metadata": {},
   "outputs": [
    {
     "name": "stdout",
     "output_type": "stream",
     "text": [
      "Enter the elements of the array:1 1 2\n",
      "[1, 2]\n"
     ]
    }
   ],
   "source": [
    "arr=list(map(lambda x:int(x),input(\"Enter the elements of the array:\").split()))\n",
    "# arr=[0,0,1,1,1,2,2,3,3,4]\n",
    "length=len(arr)\n",
    "remove_duplicates(arr,length)"
   ]
  },
  {
   "cell_type": "markdown",
   "metadata": {},
   "source": [
    "# Given an array, rotate the array to the right by k steps, where k is non-negative."
   ]
  },
  {
   "cell_type": "code",
   "execution_count": 8,
   "metadata": {},
   "outputs": [],
   "source": [
    "class Solution:\n",
    "    def rotate(self, nums, k) -> None:\n",
    "        \"\"\"\n",
    "        Do not return anything, modify nums in-place instead.\n",
    "        \"\"\"\n",
    "        while k>0:\n",
    "            i=len(nums)-1\n",
    "            nums.insert(0,nums.pop(i))   \n",
    "            k-=1\n",
    "        print(nums)"
   ]
  },
  {
   "cell_type": "code",
   "execution_count": 9,
   "metadata": {},
   "outputs": [
    {
     "name": "stdout",
     "output_type": "stream",
     "text": [
      "[5, 6, 7, 1, 2, 3, 4]\n"
     ]
    }
   ],
   "source": [
    "Solution().rotate([1,2,3,4,5,6,7],3)"
   ]
  }
 ],
 "metadata": {
  "kernelspec": {
   "display_name": "Python 3",
   "language": "python",
   "name": "python3"
  },
  "language_info": {
   "codemirror_mode": {
    "name": "ipython",
    "version": 3
   },
   "file_extension": ".py",
   "mimetype": "text/x-python",
   "name": "python",
   "nbconvert_exporter": "python",
   "pygments_lexer": "ipython3",
   "version": "3.7.5"
  }
 },
 "nbformat": 4,
 "nbformat_minor": 4
}
