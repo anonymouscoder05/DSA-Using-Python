{
 "cells": [
  {
   "cell_type": "markdown",
   "metadata": {},
   "source": [
    "# 1. Find the duplicate in an array of N integers  in O(1)space"
   ]
  },
  {
   "cell_type": "code",
   "execution_count": 120,
   "metadata": {},
   "outputs": [],
   "source": [
    "def find_duplicates(arr,l):\n",
    "    for i in range(l):\n",
    "        arr[arr[i]%l]=arr[arr[i]%l]+l\n",
    "    for i in range(l):\n",
    "        if arr[i]//l>1:\n",
    "            print(i,end=\" \")"
   ]
  },
  {
   "cell_type": "code",
   "execution_count": 131,
   "metadata": {},
   "outputs": [
    {
     "name": "stdout",
     "output_type": "stream",
     "text": [
      "0 1 3 6 "
     ]
    }
   ],
   "source": [
    "arr=list(map(lambda x:int(x),input(\"Enter the elements of the array:\").split()))\n",
    "length=len(arr)\n",
    "find_duplicates(arr,length)"
   ]
  },
  {
   "cell_type": "markdown",
   "metadata": {},
   "source": [
    "# Remove Duplicates from Sorted Array in O(1) space"
   ]
  },
  {
   "cell_type": "code",
   "execution_count": 186,
   "metadata": {},
   "outputs": [],
   "source": [
    "def remove_duplicates(arr,l):\n",
    "    i=0\n",
    "    while i<len(arr)-1:\n",
    "        try:\n",
    "            if arr[i]==arr[i+1]:\n",
    "                arr.pop(i)\n",
    "            else:\n",
    "                i+=1 \n",
    "        except:\n",
    "            break\n",
    "    print(arr)"
   ]
  },
  {
   "cell_type": "code",
   "execution_count": 187,
   "metadata": {},
   "outputs": [
    {
     "name": "stdout",
     "output_type": "stream",
     "text": [
      "[0, 1, 2, 3, 4]\n"
     ]
    }
   ],
   "source": [
    "# arr=list(map(lambda x:int(x),input(\"Enter the elements of the array:\").split()))\n",
    "arr=[0,0,1,1,1,2,2,3,3,4]\n",
    "length=len(arr)\n",
    "remove_duplicates(arr,length)"
   ]
  },
  {
   "cell_type": "markdown",
   "metadata": {},
   "source": [
    "# Given an array, rotate the array to the right by k steps, where k is non-negative."
   ]
  },
  {
   "cell_type": "code",
   "execution_count": 8,
   "metadata": {},
   "outputs": [],
   "source": [
    "class Solution:\n",
    "    def rotate(self, nums, k) -> None:\n",
    "        \"\"\"\n",
    "        Do not return anything, modify nums in-place instead.\n",
    "        \"\"\"\n",
    "        while k>0:\n",
    "            i=len(nums)-1\n",
    "            nums.insert(0,nums.pop(i))   \n",
    "            k-=1\n",
    "        print(nums)"
   ]
  },
  {
   "cell_type": "code",
   "execution_count": 9,
   "metadata": {},
   "outputs": [
    {
     "name": "stdout",
     "output_type": "stream",
     "text": [
      "[5, 6, 7, 1, 2, 3, 4]\n"
     ]
    }
   ],
   "source": [
    "Solution().rotate([1,2,3,4,5,6,7],3)"
   ]
  },
  {
   "cell_type": "markdown",
   "metadata": {},
   "source": [
    "# Sort an array of 0’s 1’s 2’s without using extra space or sorting algo"
   ]
  },
  {
   "cell_type": "code",
   "execution_count": 75,
   "metadata": {},
   "outputs": [],
   "source": [
    "def sort_012_array(arr):\n",
    "    \"\"\"\n",
    "        Traversing the array from start to end...\n",
    "    \"\"\"\n",
    "    i=0\n",
    "    counter=0\n",
    "    length=len(arr)\n",
    "    while i<length:\n",
    "        if counter==length:\n",
    "            break\n",
    "        if arr[i]==0:\n",
    "            arr.insert(0,arr.pop(i))\n",
    "            counter+=1\n",
    "            i+=1\n",
    "        elif arr[i]==2:\n",
    "            arr.append(arr.pop(i))\n",
    "            counter+=1\n",
    "        else:\n",
    "            i+=1\n",
    "            counter+=1\n",
    "    print(arr)"
   ]
  },
  {
   "cell_type": "code",
   "execution_count": 76,
   "metadata": {},
   "outputs": [
    {
     "name": "stdout",
     "output_type": "stream",
     "text": [
      "[0, 0, 0, 0, 0, 1, 1, 2, 2]\n"
     ]
    }
   ],
   "source": [
    "arr=[0,1,0,0,0,1,2,2,0]\n",
    "sort_012_array(arr)"
   ]
  },
  {
   "cell_type": "markdown",
   "metadata": {},
   "source": [
    "# Merge two sorted arrays with O(1) extra space"
   ]
  },
  {
   "cell_type": "code",
   "execution_count": 184,
   "metadata": {},
   "outputs": [],
   "source": [
    "def merge_two_sorted_array(nums1,nums2,nums1_len,nums2_len):\n",
    "    if nums1_len>nums2_len:\n",
    "        i=0\n",
    "        while i<len(nums1):\n",
    "            if len(nums2)!=0:\n",
    "                if nums1[i]>=nums2[0]:\n",
    "                    nums1.insert(i,nums2.pop(0))\n",
    "            else:\n",
    "                break\n",
    "            i+=1\n",
    "        if len(nums2)!=0:\n",
    "            nums1=nums1+nums2\n",
    "        nums2=nums1[nums1_len:]\n",
    "        nums1=nums1[:nums1_len]\n",
    "        print(nums1)\n",
    "        print(nums2)        \n",
    "       \n",
    "    else:\n",
    "        i=0\n",
    "        while i<len(nums2):\n",
    "            if len(nums1)!=0:\n",
    "                if nums2[i]>=nums1[0]:\n",
    "                    nums2.insert(i,nums1.pop(0))\n",
    "            else:\n",
    "                break\n",
    "            i+=1\n",
    "        if len(nums1)!=0:\n",
    "            nums2=nums2+nums1\n",
    "        nums1=nums2[:nums1_len]\n",
    "        nums2=nums2[nums1_len:]\n",
    "        print(nums1)\n",
    "        print(nums2)"
   ]
  },
  {
   "cell_type": "code",
   "execution_count": 185,
   "metadata": {},
   "outputs": [
    {
     "name": "stdout",
     "output_type": "stream",
     "text": [
      "[2]\n",
      "[3, 10]\n"
     ]
    }
   ],
   "source": [
    "nums1=[10]\n",
    "nums2=[2,3]\n",
    "nums1_len=len(nums1)\n",
    "nums2_len=len(nums2)\n",
    "merge_two_sorted_array(nums1,nums2,nums1_len,nums2_len)"
   ]
  },
  {
   "cell_type": "markdown",
   "metadata": {},
   "source": [
    "# Kadane’s Algorithm"
   ]
  },
  {
   "cell_type": "code",
   "execution_count": 194,
   "metadata": {},
   "outputs": [],
   "source": [
    "def contigious_sub_array_sum(arr):\n",
    "    i=0\n",
    "    current_max=0\n",
    "    max_sum=0\n",
    "    while i<len(arr):\n",
    "        current_max=max(arr[i],arr[i]+current_max)\n",
    "        max_sum=max(max_sum,current_max)\n",
    "        i+=1\n",
    "    return max_sum"
   ]
  },
  {
   "cell_type": "code",
   "execution_count": 195,
   "metadata": {
    "scrolled": true
   },
   "outputs": [
    {
     "data": {
      "text/plain": [
       "14"
      ]
     },
     "execution_count": 195,
     "metadata": {},
     "output_type": "execute_result"
    }
   ],
   "source": [
    "arr=[1,-8,12,0,-3,5,-9,4]\n",
    "contigious_sub_array_sum(arr)"
   ]
  },
  {
   "cell_type": "markdown",
   "metadata": {},
   "source": [
    "# Merge Overlapping Subintervals"
   ]
  },
  {
   "cell_type": "code",
   "execution_count": null,
   "metadata": {},
   "outputs": [],
   "source": []
  },
  {
   "cell_type": "code",
   "execution_count": null,
   "metadata": {},
   "outputs": [],
   "source": []
  }
 ],
 "metadata": {
  "kernelspec": {
   "display_name": "Python 3",
   "language": "python",
   "name": "python3"
  },
  "language_info": {
   "codemirror_mode": {
    "name": "ipython",
    "version": 3
   },
   "file_extension": ".py",
   "mimetype": "text/x-python",
   "name": "python",
   "nbconvert_exporter": "python",
   "pygments_lexer": "ipython3",
   "version": "3.7.5"
  }
 },
 "nbformat": 4,
 "nbformat_minor": 4
}
