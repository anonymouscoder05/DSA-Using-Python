{
 "cells": [
  {
   "cell_type": "markdown",
   "metadata": {},
   "source": [
    "# Finding middle node in a Linked List in O(N) time and Single Pass"
   ]
  },
  {
   "cell_type": "code",
   "execution_count": 72,
   "metadata": {},
   "outputs": [],
   "source": [
    "class Node:\n",
    "    def __init__(self,element=None,next=None):\n",
    "        self.element=element\n",
    "        self.next=next"
   ]
  },
  {
   "cell_type": "code",
   "execution_count": 100,
   "metadata": {},
   "outputs": [],
   "source": [
    "##Singly Linked List..!!\n",
    "class linkedList():\n",
    "    def __init__(self):\n",
    "        self.head=None\n",
    "    \n",
    "    def isEmpty(self):\n",
    "        if self.head==None:\n",
    "            return True\n",
    "        return False\n",
    "    def insertElement(self,element):\n",
    "        if not self.isEmpty():\n",
    "            itr=self.head\n",
    "            while itr.next!=None:\n",
    "                itr=itr.next\n",
    "            itr.next=Node(element)\n",
    "        else:\n",
    "            self.head=Node(element,None)\n",
    "    def printElement(self):\n",
    "        if not self.isEmpty():\n",
    "            itr=self.head\n",
    "            while itr:\n",
    "                print(itr.element,end=\" \")\n",
    "                itr=itr.next\n",
    "        else:\n",
    "            print('Empty List!')\n",
    "            \n",
    "## __Bulk Insert Elements__ ##\n",
    "    def bulkInsert(self,lists):\n",
    "        if not self.isEmpty():\n",
    "            itr=self.head\n",
    "            while itr.next!=None:\n",
    "                itr=itr.next\n",
    "            for i in lists:\n",
    "                itr.next=Node(i,None)\n",
    "                itr=itr.next\n",
    "        else:\n",
    "            self.head=Node(lists[0],None)\n",
    "            itr=self.head\n",
    "            for i in range(1,len(lists)):\n",
    "                itr.next=Node(lists[i],None)\n",
    "                itr=itr.next          \n",
    "##__Middle Element from the list__##\n",
    "    def middleElement(self):\n",
    "        if not self.isEmpty():\n",
    "            slow=self.head\n",
    "            fast=self.head\n",
    "            while fast and fast.next:\n",
    "                slow=slow.next\n",
    "                fast=fast.next.next\n",
    "            return slow.element\n",
    "        else:\n",
    "            print('Empty List!')"
   ]
  },
  {
   "cell_type": "code",
   "execution_count": 101,
   "metadata": {},
   "outputs": [
    {
     "name": "stdout",
     "output_type": "stream",
     "text": [
      "10 20 30 40 \n",
      "Middle Element:  30\n"
     ]
    }
   ],
   "source": [
    "elementList=linkedList()\n",
    "# elementList.insertElement(40)\n",
    "elementList.bulkInsert([10,20,30,40])\n",
    "elementList.printElement()\n",
    "print('\\nMiddle Element: ',elementList.middleElement())"
   ]
  },
  {
   "cell_type": "markdown",
   "metadata": {},
   "source": [
    "# Singly Linked Lists -- Node Swap"
   ]
  },
  {
   "cell_type": "code",
   "execution_count": 135,
   "metadata": {},
   "outputs": [],
   "source": [
    "##Singly Linked List..!!\n",
    "class linkedList():\n",
    "    def __init__(self):\n",
    "        self.head=None\n",
    "    \n",
    "    def isEmpty(self):\n",
    "        if self.head==None:\n",
    "            return True\n",
    "        return False\n",
    "    def insertElement(self,element):\n",
    "        if not self.isEmpty():\n",
    "            itr=self.head\n",
    "            while itr.next!=None:\n",
    "                itr=itr.next\n",
    "            itr.next=Node(element)\n",
    "        else:\n",
    "            self.head=Node(element,None)\n",
    "    def printElement(self,statement=None):\n",
    "        if not self.isEmpty():\n",
    "            itr=self.head\n",
    "            if statement:\n",
    "                print(statement,end=\" \")\n",
    "            while itr:\n",
    "                print(itr.element,end=\" \")\n",
    "                itr=itr.next\n",
    "            print()\n",
    "        else:\n",
    "            print('Empty List!')\n",
    "\n",
    "## __Bulk Insert Elements__ ##\n",
    "    def bulkInsert(self,lists):\n",
    "        if not self.isEmpty():\n",
    "            itr=self.head\n",
    "            while itr.next!=None:\n",
    "                itr=itr.next\n",
    "            for i in lists:\n",
    "                itr.next=Node(i,None)\n",
    "                itr=itr.next\n",
    "        else:\n",
    "            self.head=Node(lists[0],None)\n",
    "            itr=self.head\n",
    "            for i in range(1,len(lists)):\n",
    "                itr.next=Node(lists[i],None)\n",
    "                itr=itr.next          \n",
    "    def swapElement(self,x,y):\n",
    "        if not self.isEmpty():\n",
    "            self.storeX=None\n",
    "            self.storeY=None\n",
    "            itr=self.head\n",
    "            while itr:\n",
    "                if itr.element==x:\n",
    "                    self.storeX=itr\n",
    "                elif itr.element==y:\n",
    "                    self.storeY=itr\n",
    "                else:\n",
    "                    pass\n",
    "                itr=itr.next\n",
    "\n",
    "            self.storeX.element=y\n",
    "            self.storeY.element=x\n",
    "\n",
    "        else:\n",
    "            print('List is Empty..!!')"
   ]
  },
  {
   "cell_type": "code",
   "execution_count": 137,
   "metadata": {},
   "outputs": [
    {
     "name": "stdout",
     "output_type": "stream",
     "text": [
      "Before Swapping A B C D \n",
      "After Swapping D B C A \n"
     ]
    }
   ],
   "source": [
    "elementList=linkedList()\n",
    "elementList.bulkInsert(['A','B','C','D'])\n",
    "elementList.printElement('Before Swapping')\n",
    "elementList.swapElement('D','A')\n",
    "elementList.printElement('After Swapping')"
   ]
  },
  {
   "cell_type": "code",
   "execution_count": null,
   "metadata": {},
   "outputs": [],
   "source": []
  }
 ],
 "metadata": {
  "kernelspec": {
   "display_name": "Python 3",
   "language": "python",
   "name": "python3"
  },
  "language_info": {
   "codemirror_mode": {
    "name": "ipython",
    "version": 3
   },
   "file_extension": ".py",
   "mimetype": "text/x-python",
   "name": "python",
   "nbconvert_exporter": "python",
   "pygments_lexer": "ipython3",
   "version": "3.7.5"
  }
 },
 "nbformat": 4,
 "nbformat_minor": 4
}
