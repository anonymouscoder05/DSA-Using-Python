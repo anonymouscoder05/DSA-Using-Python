{
 "cells": [
  {
   "cell_type": "markdown",
   "metadata": {},
   "source": [
    "# Inorder,preorder,postorder traversal"
   ]
  },
  {
   "cell_type": "code",
   "execution_count": 4,
   "metadata": {},
   "outputs": [],
   "source": [
    "class Node:\n",
    "    def __init__(self,val=None):\n",
    "        self.left=None\n",
    "        self.val=val\n",
    "        self.right=None\n"
   ]
  },
  {
   "cell_type": "code",
   "execution_count": 61,
   "metadata": {},
   "outputs": [],
   "source": [
    "###DFS Traversal:-(pre-order,post-order,in-order)###\n",
    "from collections import deque\n",
    "from queue import Queue\n",
    "class BinaryTree(object):\n",
    "    def __init__(self,value):\n",
    "        self.root=Node(value)\n",
    "    def insertElement(self,val):\n",
    "        if not self.root:\n",
    "            self.root=Node(val)\n",
    "        else:\n",
    "            Q=Queue()\n",
    "            Q.put(self.root)\n",
    "            while not Q.empty():\n",
    "                temp=Q.get() \n",
    "                if temp.left:\n",
    "                    Q.put(temp.left)\n",
    "                else:\n",
    "                    temp.left=Node(val)\n",
    "                    break\n",
    "                if temp.right:\n",
    "                    Q.put(temp.right)\n",
    "                else:\n",
    "                    temp.right=Node(val)\n",
    "                    break\n",
    "                    \n",
    "    def printTraversal(self,choice):\n",
    "        if choice=='Preorder':\n",
    "            self.preorder()\n",
    "        elif choice=='Postorder':\n",
    "            self.postorder()\n",
    "        elif choice=='Postorder2':\n",
    "            self.postorder2()\n",
    "        elif choice=='Inorder':\n",
    "            self.inorder()\n",
    "        elif choice=='Inorder2':\n",
    "            self.inorder2()\n",
    "            \n",
    "    def preorder(self):\n",
    "        stack=deque()\n",
    "        stack.append(self.root)\n",
    "        while stack:\n",
    "            temp=stack.pop()\n",
    "            print(temp.val,end=\"->\")\n",
    "            if temp.right:\n",
    "                stack.append(temp.right)\n",
    "            if temp.left: \n",
    "                stack.append(temp.left)\n",
    "\n",
    "    def postorder(self):\n",
    "        stack=deque()\n",
    "        stack.append(self.root)\n",
    "        while stack:\n",
    "            temp=stack[-1]\n",
    "            if temp.left and temp.right:\n",
    "                stack.append(temp.right)\n",
    "                stack.append(temp.left)\n",
    "                temp.right=None\n",
    "                temp.left=None\n",
    "            elif temp.left:\n",
    "                stack.append(temp.left)\n",
    "                temp.left=None\n",
    "            elif temp.right:\n",
    "                stack.append(temp.right)\n",
    "                temp.right=None\n",
    "            else:\n",
    "                print(stack.pop().val,end=\"->\")\n",
    "                \n",
    "    def postorder2(self):\n",
    "        stack1=deque()\n",
    "        stack2=deque()\n",
    "        stack1.append(self.root)\n",
    "        while stack1:\n",
    "            temp=stack1.pop()\n",
    "            stack2.append(temp.val+\"->\")\n",
    "            if temp.left:\n",
    "                stack1.append(temp.left)\n",
    "            if temp.right:\n",
    "                stack1.append(temp.right)\n",
    "        print(deque(reversed(stack2)))\n",
    "                \n",
    "    def inorder(self):\n",
    "        \"\"\"\n",
    "        This is the one approach/algorithm for traversal in inorder way\n",
    "        \"\"\"\n",
    "        stack=deque()\n",
    "        stack.append(self.root)\n",
    "        while stack:\n",
    "            temp=stack.pop()\n",
    "            if temp.left and temp.right:\n",
    "                stack.append(temp.right)\n",
    "                stack.append(temp)                \n",
    "                stack.append(temp.left)\n",
    "                temp.right=None\n",
    "                temp.left=None\n",
    "                \n",
    "            elif temp.left:\n",
    "                stack.append(temp)\n",
    "                stack.append(temp.left)\n",
    "                temp.left=None\n",
    "            elif temp.right:\n",
    "                stack.append(temp.right)\n",
    "                stack.append(temp)\n",
    "                temp.right=None\n",
    "            else:\n",
    "                print(temp.val,end=\"->\")       \n",
    "    def inorder2(self):\n",
    "        \"\"\"\n",
    "        Another approach with simplest way..!!\n",
    "        \"\"\"\n",
    "        stack=deque()\n",
    "        stack.append(self.root)\n",
    "        curr=self.root.left\n",
    "        while stack or curr:\n",
    "            if curr:\n",
    "                stack.append(curr)\n",
    "                curr=curr.left\n",
    "            else:\n",
    "                temp=stack.pop()\n",
    "                print(temp.val,end=\"->\")\n",
    "                curr=temp.right\n",
    "                \n",
    "    def deleteElement(self,val):\n",
    "        if not self.root:\n",
    "            print('No Node')\n",
    "        else:\n",
    "            Q=Queue()\n",
    "            Q.put(self.root)\n",
    "            node_to_delete=None\n",
    "            while not Q.empty():\n",
    "                temp=Q.get()\n",
    "                if temp.val==val:\n",
    "                    node_to_delete=temp\n",
    "                if temp.left:\n",
    "                    Q.put(temp.left)\n",
    "                if temp.right:\n",
    "                    Q.put(temp.right)\n",
    "            if node_to_delete:\n",
    "                node_to_delete.val=temp.val\n",
    "                self.delete_last_node(self.root,temp)\n",
    "                \n",
    "                \n",
    "    def delete_last_node(self,root,node_to_delete):\n",
    "        Q=Queue()\n",
    "        Q.put(self.root)\n",
    "        while not Q.empty():\n",
    "            temp=Q.get()\n",
    "            if temp.left:\n",
    "                if temp.left==node_to_delete:\n",
    "                    print('deleted',)\n",
    "                    temp.left=None\n",
    "                    break\n",
    "                else:\n",
    "                    Q.put(temp.left)\n",
    "            if temp.right:\n",
    "                if temp.right==node_to_delete:\n",
    "                    print('deleted',)\n",
    "                    temp.right=None\n",
    "                    break\n",
    "                else:\n",
    "                    Q.put(temp.right)"
   ]
  },
  {
   "cell_type": "code",
   "execution_count": 63,
   "metadata": {},
   "outputs": [
    {
     "name": "stdout",
     "output_type": "stream",
     "text": [
      "Enter Your Traversal Choice:Preorder\n",
      "a->b->d->h->k->e->m->c->f->g->deleted\n",
      "Enter Your Traversal Choice:Preorder\n",
      "a->b->m->h->k->e->c->f->g->"
     ]
    }
   ],
   "source": [
    "tree=BinaryTree('a')\n",
    "tree.insertElement('b')\n",
    "tree.insertElement('c')\n",
    "tree.insertElement('d')\n",
    "tree.insertElement('e')\n",
    "tree.insertElement('f')\n",
    "tree.insertElement('g')\n",
    "tree.insertElement('h')\n",
    "tree.insertElement('k')\n",
    "tree.insertElement('m')\n",
    "# Delte Node\n",
    "tree.printTraversal(input('Enter Your Traversal Choice:'))\n",
    "tree.deleteElement('d')\n",
    "tree.printTraversal(input('Enter Your Traversal Choice:'))"
   ]
  },
  {
   "cell_type": "markdown",
   "metadata": {},
   "source": [
    "# level order traversal"
   ]
  },
  {
   "cell_type": "code",
   "execution_count": 60,
   "metadata": {},
   "outputs": [],
   "source": [
    "##BFS:-Level Order Traversal\n",
    "from collections import deque\n",
    "class BinaryTree(object):\n",
    "    def __init__(self,value):\n",
    "        self.root=Node(value)\n",
    "    def levelorder(self):\n",
    "        queue=deque()\n",
    "        queue.append(self.root)\n",
    "        while queue:\n",
    "            temp=queue.pop()\n",
    "            print(temp.val,end=\"=>\")\n",
    "            if temp.left:\n",
    "                queue.appendleft(temp.left)\n",
    "            if temp.right:\n",
    "                queue.appendleft(temp.right)"
   ]
  },
  {
   "cell_type": "code",
   "execution_count": 62,
   "metadata": {},
   "outputs": [
    {
     "name": "stdout",
     "output_type": "stream",
     "text": [
      "a=>b=>c=>d=>e=>f=>g=>h=>m=>k=>"
     ]
    }
   ],
   "source": [
    "tree=BinaryTree('a')\n",
    "tree.root.left = Node('b')\n",
    "tree.root.right = Node('c')\n",
    "tree.root.left.left = Node('d')\n",
    "tree.root.left.right = Node('e')\n",
    "tree.root.left.right.left = Node('h')\n",
    "tree.root.right.left = Node('f')\n",
    "tree.root.right.right = Node('g')\n",
    "tree.root.right.left.left = Node('m')\n",
    "tree.root.right.left.right = Node('k')\n",
    "tree.levelorder()"
   ]
  },
  {
   "cell_type": "markdown",
   "metadata": {},
   "source": [
    "# Reverse Level-order Traversal"
   ]
  },
  {
   "cell_type": "code",
   "execution_count": 68,
   "metadata": {},
   "outputs": [],
   "source": [
    "from collections import deque\n",
    "class BinaryTree(object):\n",
    "    def __init__(self,value):\n",
    "        self.root=Node(value)\n",
    "    def reverseLevelOrder(self):\n",
    "        queue=deque()\n",
    "        stack=deque()\n",
    "        queue.append(self.root)\n",
    "        while queue:\n",
    "            temp=queue.pop()\n",
    "            stack.append(temp)\n",
    "            if temp.right:\n",
    "                queue.appendleft(temp.right)\n",
    "            if temp.left:\n",
    "                queue.appendleft(temp.left)\n",
    "        while stack:\n",
    "            print(stack.pop().val,end=\"=>\")"
   ]
  },
  {
   "cell_type": "code",
   "execution_count": 70,
   "metadata": {},
   "outputs": [
    {
     "name": "stdout",
     "output_type": "stream",
     "text": [
      "4=>5=>2=>3=>1=>"
     ]
    }
   ],
   "source": [
    "tree=BinaryTree(1)\n",
    "tree.root.left = Node(2)\n",
    "tree.root.right = Node(3)\n",
    "tree.root.left.left = Node(4)\n",
    "tree.root.left.right = Node(5)\n",
    "\n",
    "# tree.root.left = Node('b')\n",
    "# tree.root.right = Node('c')\n",
    "# tree.root.left.left = Node('d')\n",
    "# tree.root.left.right = Node('e')\n",
    "# tree.root.left.right.left = Node('h')\n",
    "# tree.root.right.left = Node('f')\n",
    "# tree.root.right.right = Node('g')\n",
    "# tree.root.right.left.left = Node('m')\n",
    "# tree.root.right.left.right = Node('k')\n",
    "tree.reverseLevelOrder()"
   ]
  },
  {
   "cell_type": "markdown",
   "metadata": {},
   "source": [
    "# Calculating Height of Tree"
   ]
  },
  {
   "cell_type": "code",
   "execution_count": 76,
   "metadata": {},
   "outputs": [],
   "source": [
    "from collections import deque\n",
    "class BinaryTree(object):\n",
    "    def __init__(self,value):\n",
    "        self.root=Node(value)\n",
    "    def heightOfTree(self):\n",
    "        count=0\n",
    "        queue=deque()\n",
    "        while queue:\n",
    "            count+=1\n",
    "            temp=queue.pop()\n",
    "            if temp.right:\n",
    "                queue.appendleft(temp.right)\n",
    "            if temp.left:\n",
    "                queue.appendleft(temp.left)\n",
    "            if not temp.left and not temp.right:\n",
    "                print(count)\n",
    "                break"
   ]
  },
  {
   "cell_type": "code",
   "execution_count": 77,
   "metadata": {},
   "outputs": [],
   "source": [
    "tree=BinaryTree(1)\n",
    "tree.root.left = Node(2)\n",
    "tree.root.right = Node(3)\n",
    "tree.root.left.left = Node(4)\n",
    "tree.root.left.right = Node(5)\n",
    "tree.heightOfTree()"
   ]
  },
  {
   "cell_type": "code",
   "execution_count": null,
   "metadata": {},
   "outputs": [],
   "source": []
  }
 ],
 "metadata": {
  "kernelspec": {
   "display_name": "Python 3",
   "language": "python",
   "name": "python3"
  },
  "language_info": {
   "codemirror_mode": {
    "name": "ipython",
    "version": 3
   },
   "file_extension": ".py",
   "mimetype": "text/x-python",
   "name": "python",
   "nbconvert_exporter": "python",
   "pygments_lexer": "ipython3",
   "version": "3.7.5"
  }
 },
 "nbformat": 4,
 "nbformat_minor": 4
}
