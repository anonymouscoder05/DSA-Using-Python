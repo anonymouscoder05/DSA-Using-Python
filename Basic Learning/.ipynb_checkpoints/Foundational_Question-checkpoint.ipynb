{
 "cells": [
  {
   "cell_type": "markdown",
   "metadata": {},
   "source": [
    "# GCD and LCM - Question"
   ]
  },
  {
   "cell_type": "code",
   "execution_count": 65,
   "metadata": {},
   "outputs": [],
   "source": [
    "class Solution:\n",
    "    def gcd(self,num1,num2):\n",
    "        \"\"\"\n",
    "        #Time Complexity :O(n/2)\n",
    "        #Space Complexity:O(1)\n",
    "        \"\"\"\n",
    "        if num1>num2:\n",
    "            x=num1//2\n",
    "            while x>=0:\n",
    "                if num1%x==0 and num2%x==0:\n",
    "                    print(\"GCD\",x)\n",
    "                    break\n",
    "                x-=1\n",
    "        else:\n",
    "            x=num2//2\n",
    "            while x>=0:\n",
    "                if num1%x==0 and num2%x==0:\n",
    "                    print(\"GCD\",x)\n",
    "                    break\n",
    "                x-=1\n",
    "    def gcd2(self,a,b):\n",
    "        \"\"\"\n",
    "            #Time Complexity :O(logn)\n",
    "            #Space Complexity:O(1)\n",
    "        \"\"\"\n",
    "        while b:\n",
    "            a,b=b,(a%b)\n",
    "        return a\n",
    "            \n",
    "    def lcm(self,num1,num2):\n",
    "        x=1\n",
    "        \"\"\"\n",
    "            #Time Complexity :O(n)\n",
    "            #Space Complexity:O(1)\n",
    "        \"\"\"\n",
    "        if num1>num2:\n",
    "            while True:\n",
    "                temp=num1*x\n",
    "                if temp%num2==0:\n",
    "                    print('LCM',temp)\n",
    "                    break\n",
    "                x+=1\n",
    "        else:\n",
    "            while True:\n",
    "                temp=num2*x\n",
    "                if temp%num1==0:\n",
    "                    print('LCM',temp)\n",
    "                    break\n",
    "                x+=1\n",
    "    def lcm2(self,a,b):\n",
    "        if b==0:\n",
    "            return a\n",
    "        return self.lcm2(b,(a%b))"
   ]
  },
  {
   "cell_type": "code",
   "execution_count": 67,
   "metadata": {},
   "outputs": [
    {
     "name": "stdout",
     "output_type": "stream",
     "text": [
      "gcd 12\n",
      "LCM 60\n",
      "lcm 60\n"
     ]
    }
   ],
   "source": [
    "x=Solution()\n",
    "# x.gcd(54,24)\n",
    "y,z=60,36\n",
    "print('gcd',x.gcd2(y,z))\n",
    "y,z=12,20\n",
    "# x.lcm(y,z)\n",
    "res=x.lcm2(y,z)\n",
    "print('lcm',(y*z)//res)"
   ]
  },
  {
   "cell_type": "code",
   "execution_count": null,
   "metadata": {},
   "outputs": [],
   "source": [
    "How node works asynchronously?\n",
    "What and why were async await introduced.?\n",
    "Knowledge of event loop is a must along with web apis, call stack etc.\n",
    "Why and how did Ryan Dahl thought of developing nodejs?\n",
    "How is nodejs different from other backend languages or frameworks? Pros and cons"
   ]
  }
 ],
 "metadata": {
  "kernelspec": {
   "display_name": "Python 3",
   "language": "python",
   "name": "python3"
  },
  "language_info": {
   "codemirror_mode": {
    "name": "ipython",
    "version": 3
   },
   "file_extension": ".py",
   "mimetype": "text/x-python",
   "name": "python",
   "nbconvert_exporter": "python",
   "pygments_lexer": "ipython3",
   "version": "3.7.5"
  }
 },
 "nbformat": 4,
 "nbformat_minor": 4
}
