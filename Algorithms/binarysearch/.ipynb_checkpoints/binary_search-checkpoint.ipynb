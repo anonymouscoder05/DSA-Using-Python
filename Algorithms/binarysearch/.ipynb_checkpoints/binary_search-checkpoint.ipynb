{
 "cells": [
  {
   "cell_type": "markdown",
   "metadata": {},
   "source": [
    "# Find First and Last occurrence of an Element"
   ]
  },
  {
   "cell_type": "code",
   "execution_count": 18,
   "metadata": {},
   "outputs": [],
   "source": [
    "def find_first_and_last_occurence(a):\n",
    "    \n",
    "    start = 0\n",
    "    end = len(a)-1\n",
    "    mid = (start+end)//2\n",
    "    V = int(input(\"Enter The No To Search:\"))\n",
    "    first=-1\n",
    "    last=-1\n",
    "\n",
    "    ##First Occurence Search using binary Search##\n",
    "    while start <= end:\n",
    "        if a[mid] == V:\n",
    "            first=mid\n",
    "            end=mid-1\n",
    "            mid = (start+end)//2\n",
    "        elif V > a[mid]:\n",
    "            start=mid+1\n",
    "            mid = (start+end)//2\n",
    "        else:\n",
    "            end=mid-1\n",
    "            mid = (start+end)//2\n",
    "\n",
    "    ##Last Occurence Search using binary Search##\n",
    "    start = 0\n",
    "    end = len(a)-1\n",
    "    mid = (start+end)//2\n",
    "    while start <= end:\n",
    "        if a[mid] == V:\n",
    "            last=mid\n",
    "            start=mid+1\n",
    "            mid = (start+end)//2\n",
    "        elif V > a[mid]:\n",
    "            start=mid+1\n",
    "            mid = (start+end)//2\n",
    "        else:\n",
    "            end=mid-1\n",
    "            mid = (start+end)//2\n",
    "    print(first,last)"
   ]
  },
  {
   "cell_type": "code",
   "execution_count": 16,
   "metadata": {},
   "outputs": [
    {
     "name": "stdout",
     "output_type": "stream",
     "text": [
      "Enter The No To Search:6\n",
      "0 18\n"
     ]
    }
   ],
   "source": [
    "arr=[6,6,6,6,6,6,6,6,6,6,6,6,6,6,6,6, 6, 6, 6, 8, 9, 10]\n",
    "find_first_and_last_occurence(arr)"
   ]
  },
  {
   "cell_type": "markdown",
   "metadata": {},
   "source": [
    "# Count of an Element in a Sorted Array"
   ]
  },
  {
   "cell_type": "code",
   "execution_count": 38,
   "metadata": {},
   "outputs": [],
   "source": [
    "def count_no_of_elements(a):\n",
    "    \n",
    "    start = 0\n",
    "    end = len(a)-1\n",
    "    mid = (start+end)//2\n",
    "    Val = int(input(\"Enter The No To Count:\"))\n",
    "    temp_last_occurence=0\n",
    "    temp_first_occurence=0\n",
    "    flag1=False\n",
    "    flag2=False \n",
    "    #One Part Covering\n",
    "    while start <= end:\n",
    "        if a[mid] == Val:\n",
    "            flag2=True\n",
    "            temp_last_occurence=mid\n",
    "            start=mid+1\n",
    "            mid = (start+end)//2\n",
    "        elif Val > a[mid]:\n",
    "            start=mid+1\n",
    "            mid = (start+end)//2\n",
    "        else:\n",
    "            end=mid-1\n",
    "            mid = (start+end)//2\n",
    "\n",
    "            \n",
    "    ##Last Part Covering\n",
    "    start = 0\n",
    "    end = len(a)-1\n",
    "    mid = (start+end)//2\n",
    "    \n",
    "    while start <= end:\n",
    "        if a[mid] == Val:\n",
    "            flag1=True\n",
    "            temp_first_occurence=mid\n",
    "            end=mid-1\n",
    "            mid = (start+end)//2\n",
    "        elif Val > a[mid]:\n",
    "            start=mid+1\n",
    "            mid = (start+end)//2\n",
    "        else:\n",
    "            end=mid-1\n",
    "            mid = (start+end)//2\n",
    "    if flag1 and flag2:\n",
    "        print(\"Count\",temp_last_occurence-temp_first_occurence+1)\n",
    "    else:\n",
    "        print(\"Element Not Found\")"
   ]
  },
  {
   "cell_type": "code",
   "execution_count": null,
   "metadata": {},
   "outputs": [],
   "source": [
    "arr=[1,2,3,4,4,5,6,7,8,9,10,10,10,10]\n",
    "# arr=[1,2,2,3,4,4,4,4,5]\n",
    "count_no_of_elements(arr)"
   ]
  },
  {
   "cell_type": "markdown",
   "metadata": {},
   "source": [
    "# Number of Times a Sorted array is Rotated"
   ]
  },
  {
   "cell_type": "code",
   "execution_count": 4,
   "metadata": {},
   "outputs": [],
   "source": [
    "def rotation_count_of_sorted_array(a):\n",
    "    start = 1\n",
    "    end = len(a)-2\n",
    "    mid = (start+end)//2\n",
    "    x=0\n",
    "    if a[0]>a[-1]:\n",
    "        while start <= end:\n",
    "            if a[mid-1]< a[mid] and a[mid]<a[mid+1] and a[x]<a[mid]:\n",
    "                start=mid+1\n",
    "                mid = (start+end)//2\n",
    "            elif a[mid-1]< a[mid] and a[mid]<a[mid+1] and a[x]>a[mid]:\n",
    "                end=mid-1\n",
    "                mid = (start+end)//2\n",
    "            elif a[mid-1]>a[mid]:\n",
    "                print(f\"No of rotation are: {mid}\")\n",
    "                break\n",
    "            elif a[mid]>a[mid+1]:\n",
    "                print(f\"No of rotation are: {(mid+1)}\")\n",
    "                break\n",
    "            else:\n",
    "                break\n",
    "    else:\n",
    "        print(\"Already Sorted!\")"
   ]
  },
  {
   "cell_type": "code",
   "execution_count": 5,
   "metadata": {
    "scrolled": true
   },
   "outputs": [
    {
     "name": "stdout",
     "output_type": "stream",
     "text": [
      "No of rotation are: 5\n"
     ]
    }
   ],
   "source": [
    "arr=[61,62,63,64,65,20,21,22,23,24,25,30,35,40,60]\n",
    "# arr=[5, 6, 7, 8, 9, 1, 2, 3, 4]\n",
    "\n",
    "rotation_count_of_sorted_array(arr)"
   ]
  },
  {
   "cell_type": "markdown",
   "metadata": {},
   "source": [
    "# Nearly Sorted Array"
   ]
  },
  {
   "cell_type": "code",
   "execution_count": 44,
   "metadata": {},
   "outputs": [],
   "source": [
    "def search_in_nearly_sorted(a):\n",
    "    start = 0\n",
    "    end = len(a)-1\n",
    "    mid = (start+end)//2\n",
    "    Val=int(input())\n",
    "    while start <= end:\n",
    "            \n",
    "        if a[mid]==Val:\n",
    "            \n",
    "            print(mid)\n",
    "            break\n",
    "            \n",
    "        elif a[mid-1]!=-1 and a[mid-1]==Val:\n",
    "            print(mid-1)\n",
    "            break\n",
    "\n",
    "        elif a[mid+1]!=len(a) and a[mid+1]==Val:\n",
    "            print(mid+1)\n",
    "            break\n",
    "            \n",
    "        elif Val>a[mid]:\n",
    "            start=mid+2\n",
    "            mid = (start+end)//2\n",
    "        else:\n",
    "            end=mid-2\n",
    "            mid = (start+end)//2\n",
    "            "
   ]
  },
  {
   "cell_type": "code",
   "execution_count": 47,
   "metadata": {},
   "outputs": [
    {
     "name": "stdout",
     "output_type": "stream",
     "text": [
      "5\n"
     ]
    }
   ],
   "source": [
    "arr=[10, 3, 40, 20, 50, 80, 70]\n",
    "search_in_nearly_sorted(arr)"
   ]
  },
  {
   "cell_type": "code",
   "execution_count": 56,
   "metadata": {},
   "outputs": [],
   "source": [
    "def find_floor_value(a):\n",
    "    start = 0\n",
    "    end = len(a)-1\n",
    "    mid = (start+end)//2\n",
    "    Val=int(input())\n",
    "    Flag=True\n",
    "    while start <= end:            \n",
    "        if a[mid]==Val:\n",
    "            print(mid)\n",
    "            Flag=False\n",
    "            break            \n",
    "        elif Val>a[mid]:\n",
    "            start=mid+1\n",
    "            mid = (start+end)//2\n",
    "        else:\n",
    "            end=mid-1\n",
    "            mid = (start+end)//2\n",
    "    if Flag:\n",
    "        print(end)"
   ]
  },
  {
   "cell_type": "code",
   "execution_count": 57,
   "metadata": {},
   "outputs": [
    {
     "name": "stdout",
     "output_type": "stream",
     "text": [
      "5\n",
      "-1\n"
     ]
    }
   ],
   "source": [
    "arr=[10,20,30,40,50,60,70]\n",
    "find_floor_value(arr)"
   ]
  },
  {
   "cell_type": "code",
   "execution_count": 65,
   "metadata": {},
   "outputs": [
    {
     "name": "stdout",
     "output_type": "stream",
     "text": [
      "65\n",
      "5\n"
     ]
    }
   ],
   "source": [
    "def find_floor_value(a):\n",
    "    start = 0\n",
    "    end = len(a)-1\n",
    "    mid = (start+end)//2\n",
    "    Val=int(input())\n",
    "    Flag=True\n",
    "    while start <= end:            \n",
    "        if a[mid]==Val:\n",
    "            print(mid)\n",
    "            Flag=False\n",
    "            break            \n",
    "        elif Val>a[mid]:\n",
    "            start=mid+1\n",
    "            if start!=len(a) and a[start]>Val:\n",
    "                print(mid)\n",
    "                break \n",
    "            mid = (start+end)//2\n",
    "        else:\n",
    "            end=mid-1\n",
    "            if a[end]<Val:\n",
    "                print(end)\n",
    "                break\n",
    "            mid = (start+end)//2\n",
    "arr=[10,20,30,40,50,60,70]\n",
    "find_floor_value(arr)"
   ]
  }
 ],
 "metadata": {
  "kernelspec": {
   "display_name": "Python 3",
   "language": "python",
   "name": "python3"
  },
  "language_info": {
   "codemirror_mode": {
    "name": "ipython",
    "version": 3
   },
   "file_extension": ".py",
   "mimetype": "text/x-python",
   "name": "python",
   "nbconvert_exporter": "python",
   "pygments_lexer": "ipython3",
   "version": "3.7.5"
  }
 },
 "nbformat": 4,
 "nbformat_minor": 4
}
