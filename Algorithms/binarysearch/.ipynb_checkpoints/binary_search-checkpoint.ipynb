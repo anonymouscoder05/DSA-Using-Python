{
 "cells": [
  {
   "cell_type": "markdown",
   "metadata": {},
   "source": [
    "# Find First and Last occurrence of an Element"
   ]
  },
  {
   "cell_type": "code",
   "execution_count": 18,
   "metadata": {},
   "outputs": [],
   "source": [
    "def find_first_and_last_occurence(a):\n",
    "    \n",
    "    start = 0\n",
    "    end = len(a)-1\n",
    "    mid = (start+end)//2\n",
    "    V = int(input(\"Enter The No To Search:\"))\n",
    "    first=-1\n",
    "    last=-1\n",
    "\n",
    "    ##First Occurence Search using binary Search##\n",
    "    while start <= end:\n",
    "        if a[mid] == V:\n",
    "            first=mid\n",
    "            end=mid-1\n",
    "            mid = (start+end)//2\n",
    "        elif V > a[mid]:\n",
    "            start=mid+1\n",
    "            mid = (start+end)//2\n",
    "        else:\n",
    "            end=mid-1\n",
    "            mid = (start+end)//2\n",
    "\n",
    "    ##Last Occurence Search using binary Search##\n",
    "    start = 0\n",
    "    end = len(a)-1\n",
    "    mid = (start+end)//2\n",
    "    while start <= end:\n",
    "        if a[mid] == V:\n",
    "            last=mid\n",
    "            start=mid+1\n",
    "            mid = (start+end)//2\n",
    "        elif V > a[mid]:\n",
    "            start=mid+1\n",
    "            mid = (start+end)//2\n",
    "        else:\n",
    "            end=mid-1\n",
    "            mid = (start+end)//2\n",
    "    print(first,last)"
   ]
  },
  {
   "cell_type": "code",
   "execution_count": 16,
   "metadata": {},
   "outputs": [
    {
     "name": "stdout",
     "output_type": "stream",
     "text": [
      "Enter The No To Search:6\n",
      "0 18\n"
     ]
    }
   ],
   "source": [
    "arr=[6,6,6,6,6,6,6,6,6,6,6,6,6,6,6,6, 6, 6, 6, 8, 9, 10]\n",
    "find_first_and_last_occurence(arr)"
   ]
  },
  {
   "cell_type": "markdown",
   "metadata": {},
   "source": [
    "# Count of an Element in a Sorted Array"
   ]
  },
  {
   "cell_type": "code",
   "execution_count": 38,
   "metadata": {},
   "outputs": [],
   "source": [
    "def count_no_of_elements(a):\n",
    "    \n",
    "    start = 0\n",
    "    end = len(a)-1\n",
    "    mid = (start+end)//2\n",
    "    Val = int(input(\"Enter The No To Count:\"))\n",
    "    temp_last_occurence=0\n",
    "    temp_first_occurence=0\n",
    "    flag1=False\n",
    "    flag2=False \n",
    "    #One Part Covering\n",
    "    while start <= end:\n",
    "        if a[mid] == Val:\n",
    "            flag2=True\n",
    "            temp_last_occurence=mid\n",
    "            start=mid+1\n",
    "            mid = (start+end)//2\n",
    "        elif Val > a[mid]:\n",
    "            start=mid+1\n",
    "            mid = (start+end)//2\n",
    "        else:\n",
    "            end=mid-1\n",
    "            mid = (start+end)//2\n",
    "\n",
    "            \n",
    "    ##Last Part Covering\n",
    "    start = 0\n",
    "    end = len(a)-1\n",
    "    mid = (start+end)//2\n",
    "    \n",
    "    while start <= end:\n",
    "        if a[mid] == Val:\n",
    "            flag1=True\n",
    "            temp_first_occurence=mid\n",
    "            end=mid-1\n",
    "            mid = (start+end)//2\n",
    "        elif Val > a[mid]:\n",
    "            start=mid+1\n",
    "            mid = (start+end)//2\n",
    "        else:\n",
    "            end=mid-1\n",
    "            mid = (start+end)//2\n",
    "    if flag1 and flag2:\n",
    "        print(\"Count\",temp_last_occurence-temp_first_occurence+1)\n",
    "    else:\n",
    "        print(\"Element Not Found\")"
   ]
  },
  {
   "cell_type": "code",
   "execution_count": null,
   "metadata": {},
   "outputs": [],
   "source": [
    "arr=[1,2,3,4,4,5,6,7,8,9,10,10,10,10]\n",
    "# arr=[1,2,2,3,4,4,4,4,5]\n",
    "count_no_of_elements(arr)"
   ]
  },
  {
   "cell_type": "markdown",
   "metadata": {},
   "source": [
    "# Number of Times a Sorted array is Rotated"
   ]
  },
  {
   "cell_type": "code",
   "execution_count": 4,
   "metadata": {},
   "outputs": [],
   "source": [
    "def rotation_count_of_sorted_array(a):\n",
    "    start = 1\n",
    "    end = len(a)-2\n",
    "    mid = (start+end)//2\n",
    "    x=0\n",
    "    if a[0]>a[-1]:\n",
    "        while start <= end:\n",
    "            if a[mid-1]< a[mid] and a[mid]<a[mid+1] and a[x]<a[mid]:\n",
    "                start=mid+1\n",
    "                mid = (start+end)//2\n",
    "            elif a[mid-1]< a[mid] and a[mid]<a[mid+1] and a[x]>a[mid]:\n",
    "                end=mid-1\n",
    "                mid = (start+end)//2\n",
    "            elif a[mid-1]>a[mid]:\n",
    "                print(f\"No of rotation are: {mid}\")\n",
    "                break\n",
    "            elif a[mid]>a[mid+1]:\n",
    "                print(f\"No of rotation are: {(mid+1)}\")\n",
    "                break\n",
    "            else:\n",
    "                break\n",
    "    else:\n",
    "        print(\"Already Sorted!\")"
   ]
  },
  {
   "cell_type": "code",
   "execution_count": 5,
   "metadata": {
    "scrolled": true
   },
   "outputs": [
    {
     "name": "stdout",
     "output_type": "stream",
     "text": [
      "No of rotation are: 5\n"
     ]
    }
   ],
   "source": [
    "arr=[61,62,63,64,65,20,21,22,23,24,25,30,35,40,60]\n",
    "# arr=[5, 6, 7, 8, 9, 1, 2, 3, 4]\n",
    "\n",
    "rotation_count_of_sorted_array(arr)"
   ]
  },
  {
   "cell_type": "markdown",
   "metadata": {},
   "source": [
    "# Nearly Sorted Array"
   ]
  },
  {
   "cell_type": "code",
   "execution_count": 44,
   "metadata": {},
   "outputs": [],
   "source": [
    "def search_in_nearly_sorted(a):\n",
    "    start = 0\n",
    "    end = len(a)-1\n",
    "    mid = (start+end)//2\n",
    "    Val=int(input())\n",
    "    while start <= end:\n",
    "            \n",
    "        if a[mid]==Val:\n",
    "            \n",
    "            print(mid)\n",
    "            break\n",
    "            \n",
    "        elif a[mid-1]!=-1 and a[mid-1]==Val:\n",
    "            print(mid-1)\n",
    "            break\n",
    "\n",
    "        elif a[mid+1]!=len(a) and a[mid+1]==Val:\n",
    "            print(mid+1)\n",
    "            break\n",
    "            \n",
    "        elif Val>a[mid]:\n",
    "            start=mid+2\n",
    "            mid = (start+end)//2\n",
    "        else:\n",
    "            end=mid-2\n",
    "            mid = (start+end)//2\n",
    "            "
   ]
  },
  {
   "cell_type": "code",
   "execution_count": 47,
   "metadata": {},
   "outputs": [
    {
     "name": "stdout",
     "output_type": "stream",
     "text": [
      "5\n"
     ]
    }
   ],
   "source": [
    "arr=[10, 3, 40, 20, 50, 80, 70]\n",
    "search_in_nearly_sorted(arr)"
   ]
  },
  {
   "cell_type": "code",
   "execution_count": 13,
   "metadata": {},
   "outputs": [],
   "source": [
    "def find_floor_value(a):\n",
    "    start = 0\n",
    "    end = len(a)-1\n",
    "    mid = (start+end)//2\n",
    "    Val=int(input())\n",
    "    Flag=True\n",
    "    while start <= end:            \n",
    "        if a[mid]==Val:\n",
    "            print(a[mid])\n",
    "            Flag=False\n",
    "            break            \n",
    "        elif Val>a[mid]:\n",
    "            start=mid+1\n",
    "            mid = (start+end)//2\n",
    "        else:\n",
    "            end=mid-1\n",
    "            mid = (start+end)//2\n",
    "    if Flag:\n",
    "        print(a[end])"
   ]
  },
  {
   "cell_type": "code",
   "execution_count": 18,
   "metadata": {},
   "outputs": [
    {
     "name": "stdout",
     "output_type": "stream",
     "text": [
      "4\n",
      "3\n"
     ]
    }
   ],
   "source": [
    "# arr=[10,20,30,40,50,60,70]\n",
    "arr=[3,5,9,15,16,17]\n",
    "find_floor_value(arr)"
   ]
  },
  {
   "cell_type": "code",
   "execution_count": 39,
   "metadata": {},
   "outputs": [
    {
     "name": "stdout",
     "output_type": "stream",
     "text": [
      "75\n",
      "70\n"
     ]
    }
   ],
   "source": [
    "# def find_floor_value(a):\n",
    "#     \"\"\"\n",
    "#      Another Logic for floor value calculation    \n",
    "#     \"\"\"\n",
    "#     start = 0\n",
    "#     end = len(a)-1\n",
    "#     mid = (start+end)//2\n",
    "#     Val=int(input())\n",
    "#     Flag=True\n",
    "#     while start <= end:            \n",
    "#         if a[mid]==Val:\n",
    "#             print(mid)\n",
    "#             Flag=False\n",
    "#             break            \n",
    "#         elif Val>a[mid]:\n",
    "#             start=mid+1\n",
    "#             if start>=len(a) or a[start]>Val:\n",
    "#                 print(a[mid])\n",
    "#                 break \n",
    "#             mid = (start+end)//2\n",
    "#         else:\n",
    "#             end=mid-1\n",
    "#             if a[end]<Val:\n",
    "#                 print(a[end])\n",
    "#                 break\n",
    "#             mid = (start+end)//2\n",
    "# arr=[10,20,30,40,50,60,70]\n",
    "# find_floor_value(arr)\n",
    "\n",
    "#Another Program\n",
    "def find_floor2_value(a):\n",
    "    \"\"\"\n",
    "     One More Logic for floor value calculation    \n",
    "    \"\"\"\n",
    "    start = 0\n",
    "    end = len(a)-1\n",
    "    mid = (start+end)//2\n",
    "    Val=int(input())\n",
    "    temp=-1\n",
    "    while start <= end:            \n",
    "        if a[mid]==Val:\n",
    "            print(mid)\n",
    "            break            \n",
    "        elif Val>a[mid]:\n",
    "            start=mid+1\n",
    "            mid = (start+end)//2\n",
    "            temp=a[mid]\n",
    "            \n",
    "        else:\n",
    "            end=mid-1\n",
    "            mid = (start+end)//2\n",
    "            temp=a[mid]\n",
    "            \n",
    "    print(temp)\n",
    "arr=[10,20,40,50,60,70]\n",
    "find_floor2_value(arr)"
   ]
  },
  {
   "cell_type": "markdown",
   "metadata": {},
   "source": [
    "# Ceil of an element in a Sorted Array"
   ]
  },
  {
   "cell_type": "code",
   "execution_count": 33,
   "metadata": {},
   "outputs": [],
   "source": [
    "def find_ceil_value(a):\n",
    "    \"\"\"\n",
    "    If given Value not present in the array,\n",
    "    get the closest/nearest value from the array. \n",
    "    \"\"\"\n",
    "    start = 0\n",
    "    end = len(a)-1\n",
    "    mid = (start+end)//2\n",
    "    Val=int(input())\n",
    "    Flag=True\n",
    "    while start <= end:            \n",
    "        if a[mid]==Val:\n",
    "            print(a[mid])\n",
    "            Flag=False\n",
    "            break            \n",
    "        elif Val>a[mid]:\n",
    "            start=mid+1\n",
    "            mid = (start+end)//2\n",
    "        else:\n",
    "            end=mid-1\n",
    "            mid = (start+end)//2\n",
    "    if Flag:\n",
    "        print(a[start])"
   ]
  },
  {
   "cell_type": "code",
   "execution_count": 34,
   "metadata": {
    "scrolled": true
   },
   "outputs": [
    {
     "name": "stdout",
     "output_type": "stream",
     "text": [
      "2\n",
      "3\n"
     ]
    }
   ],
   "source": [
    "# arr=[10,20,30,40,50,60,70]\n",
    "arr=[3,5,9,15,16,17]\n",
    "find_ceil_value(arr)"
   ]
  },
  {
   "cell_type": "markdown",
   "metadata": {},
   "source": [
    "# Next Alphabetical Element"
   ]
  },
  {
   "cell_type": "code",
   "execution_count": 50,
   "metadata": {},
   "outputs": [],
   "source": [
    "import string\n",
    "def next_alphabet_element(a):\n",
    "    \"\"\"\n",
    "    Find the next alphabetical element(lowercase) from the value\n",
    "    given in the sorted array \n",
    "    \"\"\"\n",
    "    ##To compare values made a list of lowercase letters\n",
    "    alphabets = list(string.ascii_lowercase)\n",
    "    start = 0\n",
    "    end = len(a)-1\n",
    "    mid = (start+end)//2\n",
    "    Val=input()\n",
    "    while start <= end:\n",
    "        if a[mid]==Val:\n",
    "            start=mid+1\n",
    "            mid = (start+end)//2\n",
    "#             break            \n",
    "        elif alphabets.index(Val)>alphabets.index(a[mid]):\n",
    "            start=mid+1\n",
    "            mid = (start+end)//2\n",
    "        else:\n",
    "            end=mid-1\n",
    "            mid = (start+end)//2\n",
    "    if start<len(a):\n",
    "        print(a[start])\n",
    "    else:\n",
    "        print('element is not present in the list')\n",
    "\n",
    "        \n",
    "##Another Approach: Direct Comparison\n",
    "def next_alphabet_element_2(a):\n",
    "    \"\"\"\n",
    "    Find the next alphabetical element(lowercase) from the value\n",
    "    given in the sorted array \n",
    "    \"\"\"\n",
    "    ##To compare values made a list of lowercase letters\n",
    "    start = 0\n",
    "    end = len(a)-1\n",
    "    mid = (start+end)//2\n",
    "    Val=input()\n",
    "    while start <= end:\n",
    "        if a[mid]==Val:\n",
    "            start=mid+1\n",
    "            mid = (start+end)//2\n",
    "\n",
    "        elif Val>a[mid]:\n",
    "            start=mid+1\n",
    "            mid = (start+end)//2\n",
    "        \n",
    "        else:\n",
    "            end=mid-1\n",
    "            mid = (start+end)//2\n",
    "    if start<len(a):\n",
    "        print(a[start])\n",
    "    else:\n",
    "        print('#')"
   ]
  },
  {
   "cell_type": "code",
   "execution_count": 53,
   "metadata": {},
   "outputs": [
    {
     "name": "stdout",
     "output_type": "stream",
     "text": [
      "f\n",
      "h\n"
     ]
    }
   ],
   "source": [
    "arr=['a','c','d','d', 'd','e','e','f','h']\n",
    "# print(arr.index('h'))\n",
    "next_alphabet_element(arr)\n",
    "next_alphabet_element_2(arr)"
   ]
  },
  {
   "cell_type": "markdown",
   "metadata": {},
   "source": [
    "# Find position of an element in an Infinite Sorted Array"
   ]
  },
  {
   "cell_type": "code",
   "execution_count": 60,
   "metadata": {},
   "outputs": [],
   "source": [
    "def element_in_infinite_array(a,key):\n",
    "    \"\"\"\n",
    "    It Will Try To Find The Specific Key Given As A Input From The User, In the Infinite Sorted Array!\n",
    "    If Present It Will The Return The Index Of The Key Else No Output On Console... \n",
    "    \"\"\"\n",
    "    start=0\n",
    "    end=1\n",
    "    while a[end]<key:\n",
    "        start=end\n",
    "        end=end*2\n",
    "    mid=(start+end)//2\n",
    "    while start<=end:\n",
    "        if a[mid] == key:\n",
    "            print(mid)\n",
    "            break\n",
    "        elif key > a[mid]:\n",
    "            start=mid+1\n",
    "            mid = (start+end)//2\n",
    "        else:\n",
    "            end=mid-1\n",
    "            mid = (start+end)//2"
   ]
  },
  {
   "cell_type": "code",
   "execution_count": 65,
   "metadata": {},
   "outputs": [
    {
     "name": "stdout",
     "output_type": "stream",
     "text": [
      "3\n",
      "3\n"
     ]
    }
   ],
   "source": [
    "arr=[1,2,2,3,4,5,7,8,9,10]\n",
    "key=int(input(\"Enter The Key\"))\n",
    "element_in_infinite_array(arr,key)"
   ]
  },
  {
   "cell_type": "markdown",
   "metadata": {},
   "source": [
    "# Index of First 1 in a Binary Sorted Infinite Array"
   ]
  },
  {
   "cell_type": "code",
   "execution_count": 88,
   "metadata": {},
   "outputs": [],
   "source": [
    "def find_1_in_binary_array(arr):\n",
    "    \"\"\"\n",
    "    It will print the index of 1st '1' in a binary array(consisting of 0's and 1's) which has \n",
    "    infinite amout of numbers in it\n",
    "    \"\"\"\n",
    "    start=0\n",
    "    end=1\n",
    "    first=-1\n",
    "    #As we dont know \n",
    "    while arr[end]<1:\n",
    "        start=end\n",
    "        end=end*2\n",
    "    mid=(start+end)//2\n",
    "    while start<=end:\n",
    "        \n",
    "        if arr[mid] == 1:\n",
    "            first=mid\n",
    "            end=mid-1\n",
    "            mid = (start+end)//2\n",
    "        elif 1 > arr[mid]:\n",
    "            start=mid+1\n",
    "            mid = (start+end)//2\n",
    "        else:\n",
    "            end=mid-1\n",
    "            mid = (start+end)//2\n",
    "    print(first)"
   ]
  },
  {
   "cell_type": "code",
   "execution_count": 89,
   "metadata": {},
   "outputs": [
    {
     "name": "stdout",
     "output_type": "stream",
     "text": [
      "13\n"
     ]
    }
   ],
   "source": [
    "arr=[0,0,0,0,0,0,0,0,0,0,0,0,0,1,1,1,1,1,1,1,1,1]\n",
    "\n",
    "find_1_in_binary_array(arr)"
   ]
  },
  {
   "cell_type": "markdown",
   "metadata": {},
   "source": [
    "#   Minimum Difference Element in a Sorted Array"
   ]
  },
  {
   "cell_type": "code",
   "execution_count": 109,
   "metadata": {},
   "outputs": [],
   "source": [
    "def minimum_difference_element(a,Val):\n",
    "    \"\"\"\n",
    "    \"\"\"\n",
    "    start = 0\n",
    "    end = len(a)-1\n",
    "    mid = (start+end)//2\n",
    "    Flag=True\n",
    "    while start <= end:            \n",
    "        if a[mid]==Val:\n",
    "            print(0)\n",
    "            Flag=False\n",
    "            break            \n",
    "        elif Val>a[mid]:\n",
    "            start=mid+1\n",
    "            mid = (start+end)//2\n",
    "        else:\n",
    "            end=mid-1\n",
    "            mid = (start+end)//2\n",
    "    if Flag:\n",
    "        if abs(key-a[end])<=abs(a[start]-key):\n",
    "            print('Minimum Element w.r.t to key:',a[end])\n",
    "        else:\n",
    "            print('Minimum Element w.r.t to key:',a[start])"
   ]
  },
  {
   "cell_type": "code",
   "execution_count": 110,
   "metadata": {
    "scrolled": true
   },
   "outputs": [
    {
     "name": "stdout",
     "output_type": "stream",
     "text": [
      "10\n",
      "Minimum Element w.r.t to key: 8\n"
     ]
    }
   ],
   "source": [
    "arr=[1,3,8,12,15]\n",
    "key=int(input())\n",
    "minimum_difference_element(arr,key)"
   ]
  },
  {
   "cell_type": "markdown",
   "metadata": {},
   "source": [
    "# PEAK ELEMENT"
   ]
  },
  {
   "cell_type": "code",
   "execution_count": 162,
   "metadata": {},
   "outputs": [],
   "source": [
    "#Peak element is the element which is greater than its neigbour...\n",
    "def find_peak_element(a):\n",
    "    \"\"\"\n",
    "    Print The Peak Element From The Array..\n",
    "    \"\"\"\n",
    "    start = 0\n",
    "    end = len(a)-1\n",
    "    while start<=end:\n",
    "        mid = (start+end)//2\n",
    "        if mid==len(a)-1 and a[mid]>a[mid-1]:\n",
    "                print('Peak Element Index:',mid)\n",
    "                break\n",
    "        elif mid==0 and a[mid]>a[mid+1]:\n",
    "            print('Peak Element Index:',mid)\n",
    "            break\n",
    "        else:\n",
    "            if a[mid]>a[mid-1] and a[mid]>a[mid+1]:\n",
    "                print('Peak Element Index:',mid)\n",
    "                break\n",
    "            elif a[mid]>a[mid-1] and a[mid]<a[mid+1]:\n",
    "                start=mid+1\n",
    "            else:\n",
    "                end=mid-1\n"
   ]
  },
  {
   "cell_type": "code",
   "execution_count": 165,
   "metadata": {},
   "outputs": [
    {
     "name": "stdout",
     "output_type": "stream",
     "text": [
      "Peak Element Index: 0\n"
     ]
    }
   ],
   "source": [
    "arr=[8,5,3,2,2,1]\n",
    "find_peak_element(arr)"
   ]
  },
  {
   "cell_type": "markdown",
   "metadata": {},
   "source": [
    "# Maximum Element In Biotonic Array"
   ]
  },
  {
   "cell_type": "code",
   "execution_count": 173,
   "metadata": {},
   "outputs": [],
   "source": [
    "#A biotonic array is a array which in monotonically increasing & then monotonically decreasing\n",
    "#a monotonic means i & i+1 will never be equal\n",
    "#eg:-[5,5] i=5 & next element is also 5 then it is not monotonic..!!\n",
    "def max_element_in_biotonic(a):\n",
    "    \"\"\"\n",
    "    Return The Peak Element From The Biotonic Array..\n",
    "    \"\"\"\n",
    "    start = 0\n",
    "    end = len(a)-1\n",
    "    while start<=end:\n",
    "        mid = (start+end)//2\n",
    "        if mid==len(a)-1 and a[mid]>a[mid-1]:\n",
    "            return mid\n",
    "        elif mid==0 and a[mid]>a[mid+1]:\n",
    "            return mid\n",
    "        else:\n",
    "            if a[mid]>a[mid-1] and a[mid]>a[mid+1]:\n",
    "                return mid\n",
    "            elif a[mid]>a[mid-1] and a[mid]<a[mid+1]:\n",
    "                start=mid+1\n",
    "            else:\n",
    "                end=mid-1"
   ]
  },
  {
   "cell_type": "code",
   "execution_count": 175,
   "metadata": {
    "scrolled": true
   },
   "outputs": [
    {
     "name": "stdout",
     "output_type": "stream",
     "text": [
      "5\n"
     ]
    }
   ],
   "source": [
    "arr=[1,3,5,8,9,12,4,8]\n",
    "print(max_element_in_biotonic(arr))"
   ]
  },
  {
   "cell_type": "markdown",
   "metadata": {},
   "source": [
    "# Search An Element in Bitonic Array"
   ]
  },
  {
   "cell_type": "code",
   "execution_count": 176,
   "metadata": {},
   "outputs": [],
   "source": [
    "def search_in_bitonic(a,key):\n",
    "    \"\"\"\n",
    "    print the key if present in the bitonic array\n",
    "    \"\"\"\n",
    "    #Calling the function to get max/peak element in the biotonic array\n",
    "    peak=max_element_in_biotonic(a)\n",
    "    #To search in assending order array\n",
    "    start=0\n",
    "    end=peak-1\n",
    "    flag=True\n",
    "    while start<=end:\n",
    "        mid=(start+end)//2\n",
    "        if arr[mid] == key:\n",
    "            print(mid)\n",
    "            flag=False\n",
    "            break\n",
    "        elif key > arr[mid]:\n",
    "            start=mid+1\n",
    "            mid = (start+end)//2\n",
    "        else:\n",
    "            end=mid-1\n",
    "            mid = (start+end)//2\n",
    "\n",
    "    #If element not found in the assending order order array or less than peak element array..!!\n",
    "    if flag:\n",
    "        #To search in descending order array\n",
    "        start=peak\n",
    "        end=len(a)-1\n",
    "        while start<=end:\n",
    "            mid=(start+end)//2\n",
    "            if arr[mid] == key:\n",
    "                print(mid)\n",
    "                break\n",
    "            elif key > arr[mid]:\n",
    "                end=mid-1\n",
    "                mid = (start+end)//2\n",
    "            else:\n",
    "                start=mid+1\n",
    "                mid = (start+end)//2\n"
   ]
  },
  {
   "cell_type": "code",
   "execution_count": 182,
   "metadata": {
    "scrolled": false
   },
   "outputs": [
    {
     "name": "stdout",
     "output_type": "stream",
     "text": [
      "12\n",
      "3\n"
     ]
    }
   ],
   "source": [
    "arr=[1,3,8,12,4,2]\n",
    "key=int(input())\n",
    "search_in_bitonic(arr,key)"
   ]
  },
  {
   "cell_type": "markdown",
   "metadata": {},
   "source": [
    "#  Search in Row wise And Column wise Sorted Array"
   ]
  },
  {
   "cell_type": "code",
   "execution_count": 221,
   "metadata": {},
   "outputs": [],
   "source": [
    "def search_in_matrix(a,key):\n",
    "    start=0\n",
    "    end=len(a)-1\n",
    "    mid=(start+end)//2\n",
    "    x=-1\n",
    "    while start<=end and x<mid:\n",
    "        if a[start][mid]>=key and key<=a[end][mid]:\n",
    "            mid=(start+mid)//2\n",
    "            break\n",
    "        elif key<=a[end][mid]:\n",
    "            x=mid\n",
    "            mid=(start+mid)//2\n",
    "        else:\n",
    "            mid=(mid+end)//2"
   ]
  },
  {
   "cell_type": "code",
   "execution_count": 222,
   "metadata": {},
   "outputs": [
    {
     "name": "stdout",
     "output_type": "stream",
     "text": [
      "20\n",
      "True\n",
      "1\n"
     ]
    }
   ],
   "source": [
    "mat=[\n",
    "  [10, 20, 30, 40],\n",
    "  [15, 25, 35, 45],\n",
    "  [27, 29, 37, 48],\n",
    "  [32, 33, 39, 50],\n",
    "   ]\n",
    "key=int(input())\n",
    "search_in_matrix(mat,key)"
   ]
  },
  {
   "cell_type": "code",
   "execution_count": null,
   "metadata": {},
   "outputs": [],
   "source": []
  }
 ],
 "metadata": {
  "kernelspec": {
   "display_name": "Python 3",
   "language": "python",
   "name": "python3"
  },
  "language_info": {
   "codemirror_mode": {
    "name": "ipython",
    "version": 3
   },
   "file_extension": ".py",
   "mimetype": "text/x-python",
   "name": "python",
   "nbconvert_exporter": "python",
   "pygments_lexer": "ipython3",
   "version": "3.7.5"
  }
 },
 "nbformat": 4,
 "nbformat_minor": 4
}
