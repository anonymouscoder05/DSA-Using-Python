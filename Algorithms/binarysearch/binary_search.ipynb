{
 "cells": [
  {
   "cell_type": "markdown",
   "metadata": {},
   "source": [
    "# Find First and Last occurrence of an Element"
   ]
  },
  {
   "cell_type": "code",
   "execution_count": 18,
   "metadata": {},
   "outputs": [],
   "source": [
    "def find_first_and_last_occurence(a):\n",
    "    \n",
    "    start = 0\n",
    "    end = len(a)-1\n",
    "    mid = (start+end)//2\n",
    "    V = int(input(\"Enter The No To Search:\"))\n",
    "    first=-1\n",
    "    last=-1\n",
    "\n",
    "    ##First Occurence Search using binary Search##\n",
    "    while start <= end:\n",
    "        if a[mid] == V:\n",
    "            first=mid\n",
    "            end=mid-1\n",
    "            mid = (start+end)//2\n",
    "        elif V > a[mid]:\n",
    "            start=mid+1\n",
    "            mid = (start+end)//2\n",
    "        else:\n",
    "            end=mid-1\n",
    "            mid = (start+end)//2\n",
    "\n",
    "    ##Last Occurence Search using binary Search##\n",
    "    start = 0\n",
    "    end = len(a)-1\n",
    "    mid = (start+end)//2\n",
    "    while start <= end:\n",
    "        if a[mid] == V:\n",
    "            last=mid\n",
    "            start=mid+1\n",
    "            mid = (start+end)//2\n",
    "        elif V > a[mid]:\n",
    "            start=mid+1\n",
    "            mid = (start+end)//2\n",
    "        else:\n",
    "            end=mid-1\n",
    "            mid = (start+end)//2\n",
    "    print(first,last)"
   ]
  },
  {
   "cell_type": "code",
   "execution_count": 16,
   "metadata": {},
   "outputs": [
    {
     "name": "stdout",
     "output_type": "stream",
     "text": [
      "Enter The No To Search:6\n",
      "0 18\n"
     ]
    }
   ],
   "source": [
    "arr=[6,6,6,6,6,6,6,6,6,6,6,6,6,6,6,6, 6, 6, 6, 8, 9, 10]\n",
    "find_first_and_last_occurence(arr)"
   ]
  },
  {
   "cell_type": "markdown",
   "metadata": {},
   "source": [
    "# Count of an Element in a Sorted Array"
   ]
  },
  {
   "cell_type": "code",
   "execution_count": 1,
   "metadata": {},
   "outputs": [
    {
     "ename": "SyntaxError",
     "evalue": "unexpected EOF while parsing (<ipython-input-1-2e0156d49f08>, line 1)",
     "output_type": "error",
     "traceback": [
      "\u001b[0;36m  File \u001b[0;32m\"<ipython-input-1-2e0156d49f08>\"\u001b[0;36m, line \u001b[0;32m1\u001b[0m\n\u001b[0;31m    def count_no_of_elements():\u001b[0m\n\u001b[0m                               ^\u001b[0m\n\u001b[0;31mSyntaxError\u001b[0m\u001b[0;31m:\u001b[0m unexpected EOF while parsing\n"
     ]
    }
   ],
   "source": [
    "def count_no_of_elements(arr):\n",
    "    "
   ]
  },
  {
   "cell_type": "code",
   "execution_count": null,
   "metadata": {},
   "outputs": [],
   "source": [
    "arr=[6,6,6,6,6,6,6,6,6,6,6,6,6,6,6,6, 6, 6, 6, 8, 9, 10]\n",
    "count_no_of_elements(arr)"
   ]
  }
 ],
 "metadata": {
  "kernelspec": {
   "display_name": "Python 3",
   "language": "python",
   "name": "python3"
  },
  "language_info": {
   "codemirror_mode": {
    "name": "ipython",
    "version": 3
   },
   "file_extension": ".py",
   "mimetype": "text/x-python",
   "name": "python",
   "nbconvert_exporter": "python",
   "pygments_lexer": "ipython3",
   "version": "3.7.5"
  }
 },
 "nbformat": 4,
 "nbformat_minor": 4
}
