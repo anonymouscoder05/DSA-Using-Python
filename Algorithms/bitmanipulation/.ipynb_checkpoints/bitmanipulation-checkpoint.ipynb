{
 "cells": [
  {
   "cell_type": "markdown",
   "metadata": {},
   "source": [
    "# 1. Check if a number is a power of 2 or not in O(1)"
   ]
  },
  {
   "cell_type": "code",
   "execution_count": 41,
   "metadata": {},
   "outputs": [
    {
     "name": "stdout",
     "output_type": "stream",
     "text": [
      "Enter a decimal no: 8\n",
      "Given number $8 is power of 2\n"
     ]
    }
   ],
   "source": [
    "num=int(input(\"Enter a decimal no: \"))\n",
    "##One Way\n",
    "# x=bin(num)[2:].count('1')\n",
    "# if x==1:\n",
    "#     print(f\"Given number ${num} is power of 2\")\n",
    "# else:\n",
    "#     print(f\"Given number ${num} is not power of 2\")\n",
    "\n",
    "##another way with O(1)\n",
    "if num&num-1==0:\n",
    "    print(f\"Given number ${num} is power of 2\")\n",
    "else:\n",
    "    print(f\"Given number ${num} is not power of 2\")"
   ]
  },
  {
   "cell_type": "markdown",
   "metadata": {},
   "source": [
    "# 2. Count total set bits"
   ]
  },
  {
   "cell_type": "code",
   "execution_count": 18,
   "metadata": {},
   "outputs": [
    {
     "name": "stdout",
     "output_type": "stream",
     "text": [
      "Enter a decimal no: 30\n",
      "30 0\n",
      "15 1\n",
      "7 2\n",
      "3 3\n",
      "1 4\n",
      "4\n"
     ]
    }
   ],
   "source": [
    "num=int(input(\"Enter a decimal no: \"))\n",
    "count=0\n",
    "while num>0:\n",
    "    count+=(num&1)\n",
    "#     print(num,count)\n",
    "    num=num>>1\n",
    "print(count)\n",
    "# print((num>>1))"
   ]
  },
  {
   "cell_type": "markdown",
   "metadata": {},
   "source": [
    "# 3. Divide Integers without / operator"
   ]
  },
  {
   "cell_type": "code",
   "execution_count": 34,
   "metadata": {
    "scrolled": true
   },
   "outputs": [
    {
     "name": "stdout",
     "output_type": "stream",
     "text": [
      "Enter a number: 9\n",
      "Divide by: 9\n",
      "0b1001 0b1001\n",
      "4\n"
     ]
    }
   ],
   "source": [
    "##USING RIGHT SHIFT OPERATOR..!!\n",
    "def divide_without_forward_slash(x,y):\n",
    "    return (x>>1)\n",
    "\n",
    "x=int(input(\"Enter a number: \"))\n",
    "y=int(input(\"Divide by: \"))\n",
    "# print(bin(x),bin(y))\n",
    "print(x>>1)\n",
    "# print(divide_without_forward_slash(x,y))"
   ]
  },
  {
   "cell_type": "markdown",
   "metadata": {},
   "source": [
    "# 5. Find MSB in o(1)"
   ]
  },
  {
   "cell_type": "code",
   "execution_count": 59,
   "metadata": {},
   "outputs": [
    {
     "name": "stdout",
     "output_type": "stream",
     "text": [
      "5\n"
     ]
    }
   ],
   "source": [
    "print(10>>1)"
   ]
  },
  {
   "cell_type": "markdown",
   "metadata": {},
   "source": [
    "# 6. Find square of a number without using multiplication or division operators."
   ]
  },
  {
   "cell_type": "code",
   "execution_count": 30,
   "metadata": {},
   "outputs": [
    {
     "name": "stdout",
     "output_type": "stream",
     "text": [
      "Enter a number:5\n",
      "10\n"
     ]
    }
   ],
   "source": [
    "num=int(input(\"Enter a number:\"))\n",
    "x=(num<<1)\n",
    "print(x)\n",
    "\n",
    "#11001"
   ]
  },
  {
   "cell_type": "markdown",
   "metadata": {},
   "source": [
    "# 7. Check if a number is even or odd without % operator"
   ]
  },
  {
   "cell_type": "code",
   "execution_count": 68,
   "metadata": {},
   "outputs": [
    {
     "name": "stdout",
     "output_type": "stream",
     "text": [
      "Enter a decimal no: 10\n",
      "Given number $10 is even\n",
      "Given number is even\n"
     ]
    }
   ],
   "source": [
    "\n",
    "num=int(input(\"Enter a decimal no: \"))\n",
    "##One wayusing python functionality\n",
    "x=bin(num)[2:][::-1]\n",
    "\n",
    "if x[0]=='1':\n",
    "    print(f\"Given number ${num} is odd \")\n",
    "else:\n",
    "    print(f\"Given number ${num} is even\")\n",
    "    \n",
    "##Other way using & operator\n",
    "print(\"Given number is odd\" if num&1 else \"Given number is even\")"
   ]
  },
  {
   "cell_type": "markdown",
   "metadata": {},
   "source": [
    "# Count no of bits to change to make a into b"
   ]
  },
  {
   "cell_type": "code",
   "execution_count": 86,
   "metadata": {},
   "outputs": [
    {
     "name": "stdout",
     "output_type": "stream",
     "text": [
      "4\n",
      "8\n",
      "0b100 0b1000\n",
      "Set bits to change $1, Unset Bits To Change.. $1\n"
     ]
    }
   ],
   "source": [
    "def change_bits_count(a,b):\n",
    "    unset_bit=0\n",
    "    set_bit=0\n",
    "    if a>b:\n",
    "        while a>0:\n",
    "            if (a&1)==1 and (b&1)==0:\n",
    "                unset_bit+=1\n",
    "            elif (a&1)==0 and (b&1)==1:\n",
    "                set_bit+=1\n",
    "            else:\n",
    "                pass\n",
    "            b=b>>1\n",
    "            a=a>>1\n",
    "    else:\n",
    "        while b>0:\n",
    "            if (a&1)==1 and (b&1)==0:\n",
    "                unset_bit+=1\n",
    "            elif (a&1)==0 and (b&1)==1:\n",
    "                set_bit+=1\n",
    "            else:\n",
    "                pass\n",
    "            b=b>>1\n",
    "            a=a>>1\n",
    "    print(f\"Set bits to change ${set_bit}, Unset Bits To Change.. ${unset_bit}\")\n",
    "        \n",
    "a=int(input())\n",
    "b=int(input())\n",
    "# print(bin(a),bin(b))\n",
    "change_bits_count(a,b)"
   ]
  },
  {
   "cell_type": "markdown",
   "metadata": {},
   "source": [
    "# Swapping Two numbers without third variable"
   ]
  },
  {
   "cell_type": "code",
   "execution_count": 26,
   "metadata": {},
   "outputs": [
    {
     "name": "stdout",
     "output_type": "stream",
     "text": [
      "Enter a10\n",
      "Enter b20\n",
      "6\n"
     ]
    }
   ],
   "source": [
    "def swap_two_numbers(a,b):\n",
    "    a=a^b\n",
    "    b=a^b\n",
    "    a=a^b\n",
    "    print(\"a: \",a,\"b: \",b)\n",
    "\n",
    "#Getting value & calling the value\n",
    "a=int(input(\"Enter a\"))\n",
    "b=int(input(\"Enter b\"))\n",
    "swap_two_numbers(a,b)"
   ]
  },
  {
   "cell_type": "markdown",
   "metadata": {},
   "source": [
    "# Extract ith bit from the number"
   ]
  },
  {
   "cell_type": "code",
   "execution_count": 44,
   "metadata": {},
   "outputs": [
    {
     "name": "stdout",
     "output_type": "stream",
     "text": [
      "4\n"
     ]
    }
   ],
   "source": [
    "def extract_bit(num,i):\n",
    "    \n",
    "    return num &(1<<i) \n",
    "\n",
    "print(extract_bit(6,2))"
   ]
  },
  {
   "cell_type": "markdown",
   "metadata": {},
   "source": [
    "# Change the ith bit of the given number"
   ]
  },
  {
   "cell_type": "code",
   "execution_count": 51,
   "metadata": {},
   "outputs": [
    {
     "name": "stdout",
     "output_type": "stream",
     "text": [
      "7\n"
     ]
    }
   ],
   "source": [
    "def change_i_bit(num,i):\n",
    "    return num^(1<<i)\n",
    "print(change_i_bit(5,1))"
   ]
  }
 ],
 "metadata": {
  "kernelspec": {
   "display_name": "Python 3",
   "language": "python",
   "name": "python3"
  },
  "language_info": {
   "codemirror_mode": {
    "name": "ipython",
    "version": 3
   },
   "file_extension": ".py",
   "mimetype": "text/x-python",
   "name": "python",
   "nbconvert_exporter": "python",
   "pygments_lexer": "ipython3",
   "version": "3.7.5"
  }
 },
 "nbformat": 4,
 "nbformat_minor": 4
}
