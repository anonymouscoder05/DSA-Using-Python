{
 "cells": [
  {
   "cell_type": "markdown",
   "metadata": {},
   "source": [
    "# Check if a String is Palindrome or not using Recursion"
   ]
  },
  {
   "cell_type": "code",
   "execution_count": 9,
   "metadata": {},
   "outputs": [],
   "source": [
    "#A palindrome terminology can be defined as, when reversed the the string its output is same as the input string..\n",
    "def check_palindrome(string,length):\n",
    "    \"\"\"\n",
    "    To check if the given input by user is palindrome or not\n",
    "    \"\"\"\n",
    "    if length==0:\n",
    "        return string[0]\n",
    "    return string[length]+check_palindrome(string,length-1)\n",
    "    "
   ]
  },
  {
   "cell_type": "code",
   "execution_count": 12,
   "metadata": {},
   "outputs": [
    {
     "name": "stdout",
     "output_type": "stream",
     "text": [
      "True\n"
     ]
    }
   ],
   "source": [
    "string=\"pap\"\n",
    "length=len(string)-1\n",
    "print(check_palindrome(string,length)==string)"
   ]
  },
  {
   "cell_type": "markdown",
   "metadata": {},
   "source": [
    "# Reverse an String using Recursion"
   ]
  },
  {
   "cell_type": "code",
   "execution_count": 41,
   "metadata": {},
   "outputs": [],
   "source": [
    "def reverse_string(string,length=0):\n",
    "    if length==len(string)-1:\n",
    "        return string[length]\n",
    "    return reverse_string(string,length+1)+string[length]"
   ]
  },
  {
   "cell_type": "code",
   "execution_count": 44,
   "metadata": {},
   "outputs": [
    {
     "name": "stdout",
     "output_type": "stream",
     "text": [
      "nayan\n"
     ]
    }
   ],
   "source": [
    "string=\"nayan\"\n",
    "print(reverse_string(string))"
   ]
  },
  {
   "cell_type": "markdown",
   "metadata": {},
   "source": [
    "# Find Substring of an string using recursion"
   ]
  },
  {
   "cell_type": "code",
   "execution_count": 1,
   "metadata": {},
   "outputs": [],
   "source": [
    "def find_all_substrings(string,length,x=0):\n",
    "    \"\"\"\n",
    "    Print n*(n+1)//2 numbers or substring of an number\n",
    "    \"\"\"\n",
    "    if x==len(string)-1:\n",
    "        return\n",
    "    if length==x:\n",
    "        x+=1\n",
    "        length=len(string)\n",
    "    print(string[x:length],end=\",\")\n",
    "    return find_all_substrings(string,length-1,x)"
   ]
  },
  {
   "cell_type": "code",
   "execution_count": 2,
   "metadata": {},
   "outputs": [
    {
     "name": "stdout",
     "output_type": "stream",
     "text": [
      "abcd,abc,ab,a,bcd,bc,b,cd,c,d,"
     ]
    }
   ],
   "source": [
    "string=\"abcd\"\n",
    "length=len(string)\n",
    "find_all_substrings(string,length)\n"
   ]
  },
  {
   "cell_type": "markdown",
   "metadata": {},
   "source": [
    "# Print all subsequences of a String using Recursion"
   ]
  },
  {
   "cell_type": "code",
   "execution_count": 1,
   "metadata": {},
   "outputs": [],
   "source": [
    "def sub_sequence(string,):\n",
    "    pass\n",
    "#     sub_sequence(string,)"
   ]
  },
  {
   "cell_type": "code",
   "execution_count": null,
   "metadata": {
    "scrolled": true
   },
   "outputs": [],
   "source": [
    "# sub_sequence(string,)"
   ]
  },
  {
   "cell_type": "code",
   "execution_count": 17,
   "metadata": {
    "scrolled": true
   },
   "outputs": [
    {
     "name": "stdout",
     "output_type": "stream",
     "text": [
      "Enter the string to generate the Sub-Sequence: bbabcbcab\n",
      "2nd ['b', 'b', 'bb', 'a', 'ba', 'ba', 'bba', 'b', 'bb', 'bb', 'bbb', 'ab', 'bab', 'bab', 'bbab', 'c', 'bc', 'bc', 'bbc', 'ac', 'bac', 'bac', 'bbac', 'bc', 'bbc', 'bbc', 'bbbc', 'abc', 'babc', 'babc', 'bbabc', 'b', 'bb', 'bb', 'bbb', 'ab', 'bab', 'bab', 'bbab', 'bb', 'bbb', 'bbb', 'bbbb', 'abb', 'babb', 'babb', 'bbabb', 'cb', 'bcb', 'bcb', 'bbcb', 'acb', 'bacb', 'bacb', 'bbacb', 'bcb', 'bbcb', 'bbcb', 'bbbcb', 'abcb', 'babcb', 'babcb', 'bbabcb', 'c', 'bc', 'bc', 'bbc', 'ac', 'bac', 'bac', 'bbac', 'bc', 'bbc', 'bbc', 'bbbc', 'abc', 'babc', 'babc', 'bbabc', 'cc', 'bcc', 'bcc', 'bbcc', 'acc', 'bacc', 'bacc', 'bbacc', 'bcc', 'bbcc', 'bbcc', 'bbbcc', 'abcc', 'babcc', 'babcc', 'bbabcc', 'bc', 'bbc', 'bbc', 'bbbc', 'abc', 'babc', 'babc', 'bbabc', 'bbc', 'bbbc', 'bbbc', 'bbbbc', 'abbc', 'babbc', 'babbc', 'bbabbc', 'cbc', 'bcbc', 'bcbc', 'bbcbc', 'acbc', 'bacbc', 'bacbc', 'bbacbc', 'bcbc', 'bbcbc', 'bbcbc', 'bbbcbc', 'abcbc', 'babcbc', 'babcbc', 'bbabcbc', 'a', 'ba', 'ba', 'bba', 'aa', 'baa', 'baa', 'bbaa', 'ba', 'bba', 'bba', 'bbba', 'aba', 'baba', 'baba', 'bbaba', 'ca', 'bca', 'bca', 'bbca', 'aca', 'baca', 'baca', 'bbaca', 'bca', 'bbca', 'bbca', 'bbbca', 'abca', 'babca', 'babca', 'bbabca', 'ba', 'bba', 'bba', 'bbba', 'aba', 'baba', 'baba', 'bbaba', 'bba', 'bbba', 'bbba', 'bbbba', 'abba', 'babba', 'babba', 'bbabba', 'cba', 'bcba', 'bcba', 'bbcba', 'acba', 'bacba', 'bacba', 'bbacba', 'bcba', 'bbcba', 'bbcba', 'bbbcba', 'abcba', 'babcba', 'babcba', 'bbabcba', 'ca', 'bca', 'bca', 'bbca', 'aca', 'baca', 'baca', 'bbaca', 'bca', 'bbca', 'bbca', 'bbbca', 'abca', 'babca', 'babca', 'bbabca', 'cca', 'bcca', 'bcca', 'bbcca', 'acca', 'bacca', 'bacca', 'bbacca', 'bcca', 'bbcca', 'bbcca', 'bbbcca', 'abcca', 'babcca', 'babcca', 'bbabcca', 'bca', 'bbca', 'bbca', 'bbbca', 'abca', 'babca', 'babca', 'bbabca', 'bbca', 'bbbca', 'bbbca', 'bbbbca', 'abbca', 'babbca', 'babbca', 'bbabbca', 'cbca', 'bcbca', 'bcbca', 'bbcbca', 'acbca', 'bacbca', 'bacbca', 'bbacbca', 'bcbca', 'bbcbca', 'bbcbca', 'bbbcbca', 'abcbca', 'babcbca', 'babcbca', 'bbabcbca', 'b', 'bb', 'bb', 'bbb', 'ab', 'bab', 'bab', 'bbab', 'bb', 'bbb', 'bbb', 'bbbb', 'abb', 'babb', 'babb', 'bbabb', 'cb', 'bcb', 'bcb', 'bbcb', 'acb', 'bacb', 'bacb', 'bbacb', 'bcb', 'bbcb', 'bbcb', 'bbbcb', 'abcb', 'babcb', 'babcb', 'bbabcb', 'bb', 'bbb', 'bbb', 'bbbb', 'abb', 'babb', 'babb', 'bbabb', 'bbb', 'bbbb', 'bbbb', 'bbbbb', 'abbb', 'babbb', 'babbb', 'bbabbb', 'cbb', 'bcbb', 'bcbb', 'bbcbb', 'acbb', 'bacbb', 'bacbb', 'bbacbb', 'bcbb', 'bbcbb', 'bbcbb', 'bbbcbb', 'abcbb', 'babcbb', 'babcbb', 'bbabcbb', 'cb', 'bcb', 'bcb', 'bbcb', 'acb', 'bacb', 'bacb', 'bbacb', 'bcb', 'bbcb', 'bbcb', 'bbbcb', 'abcb', 'babcb', 'babcb', 'bbabcb', 'ccb', 'bccb', 'bccb', 'bbccb', 'accb', 'baccb', 'baccb', 'bbaccb', 'bccb', 'bbccb', 'bbccb', 'bbbccb', 'abccb', 'babccb', 'babccb', 'bbabccb', 'bcb', 'bbcb', 'bbcb', 'bbbcb', 'abcb', 'babcb', 'babcb', 'bbabcb', 'bbcb', 'bbbcb', 'bbbcb', 'bbbbcb', 'abbcb', 'babbcb', 'babbcb', 'bbabbcb', 'cbcb', 'bcbcb', 'bcbcb', 'bbcbcb', 'acbcb', 'bacbcb', 'bacbcb', 'bbacbcb', 'bcbcb', 'bbcbcb', 'bbcbcb', 'bbbcbcb', 'abcbcb', 'babcbcb', 'babcbcb', 'bbabcbcb', 'ab', 'bab', 'bab', 'bbab', 'aab', 'baab', 'baab', 'bbaab', 'bab', 'bbab', 'bbab', 'bbbab', 'abab', 'babab', 'babab', 'bbabab', 'cab', 'bcab', 'bcab', 'bbcab', 'acab', 'bacab', 'bacab', 'bbacab', 'bcab', 'bbcab', 'bbcab', 'bbbcab', 'abcab', 'babcab', 'babcab', 'bbabcab', 'bab', 'bbab', 'bbab', 'bbbab', 'abab', 'babab', 'babab', 'bbabab', 'bbab', 'bbbab', 'bbbab', 'bbbbab', 'abbab', 'babbab', 'babbab', 'bbabbab', 'cbab', 'bcbab', 'bcbab', 'bbcbab', 'acbab', 'bacbab', 'bacbab', 'bbacbab', 'bcbab', 'bbcbab', 'bbcbab', 'bbbcbab', 'abcbab', 'babcbab', 'babcbab', 'bbabcbab', 'cab', 'bcab', 'bcab', 'bbcab', 'acab', 'bacab', 'bacab', 'bbacab', 'bcab', 'bbcab', 'bbcab', 'bbbcab', 'abcab', 'babcab', 'babcab', 'bbabcab', 'ccab', 'bccab', 'bccab', 'bbccab', 'accab', 'baccab', 'baccab', 'bbaccab', 'bccab', 'bbccab', 'bbccab', 'bbbccab', 'abccab', 'babccab', 'babccab', 'bbabccab', 'bcab', 'bbcab', 'bbcab', 'bbbcab', 'abcab', 'babcab', 'babcab', 'bbabcab', 'bbcab', 'bbbcab', 'bbbcab', 'bbbbcab', 'abbcab', 'babbcab', 'babbcab', 'bbabbcab', 'cbcab', 'bcbcab', 'bcbcab', 'bbcbcab', 'acbcab', 'bacbcab', 'bacbcab', 'bbacbcab', 'bcbcab', 'bbcbcab', 'bbcbcab', 'bbbcbcab', 'abcbcab', 'babcbcab', 'babcbcab', 'bbabcbcab']\n"
     ]
    }
   ],
   "source": [
    "# Print all subsequences of a String using ITERATIVE approach....\n",
    "\n",
    "def subsequence_iteration(s,length):\n",
    "    \"\"\"\n",
    "    Print all the Sub-sequence of a given string using iterative approach...\n",
    "    \"\"\"\n",
    "    arr=[]\n",
    "    arr2=[]\n",
    "    \n",
    "    x=len(bin((2**length)-1)[2:])\n",
    "####One Approach###\n",
    "#     for i in range(1,(2**length)):\n",
    "#         temp=len(bin(i)[2:])\n",
    "#         if temp==x:\n",
    "#             arr.append(bin(i)[2:])\n",
    "#         else:\n",
    "#             arr.append((x-temp)*\"0\"+bin(i)[2:])\n",
    "#     for i in range(len(arr)):\n",
    "#         x=''\n",
    "#         for j in range(len(arr[i])):\n",
    "#             if arr[i][j]=='1':\n",
    "#                 x+=s[j]\n",
    "#         arr[i]=x\n",
    "#     print(\"1st\",arr)\n",
    "\n",
    "\n",
    "#########2nd Approach###########\n",
    "    for i in range(1,(2**length)):\n",
    "        if i==(2**length)-1:\n",
    "            arr2.append(s)\n",
    "        else:\n",
    "            temp=bin(i)[2:]\n",
    "#             print(temp)\n",
    "            temp=bin(i)[2:][::-1]\n",
    "            x=''\n",
    "            for i in range(len(temp)):\n",
    "                if temp[i]=='1':\n",
    "                    x+=s[i]\n",
    "            arr2.append(x)\n",
    "    print(\"2nd\",arr2)\n",
    "    \n",
    "##Calling the method\n",
    "s=input(\"Enter the string to generate the Sub-Sequence: \")\n",
    "length=len(s)\n",
    "\n",
    "subsequence_iteration(s,length)"
   ]
  },
  {
   "cell_type": "markdown",
   "metadata": {},
   "source": [
    "# Find the Longest Palindromic Subsequence using Recursion"
   ]
  },
  {
   "cell_type": "code",
   "execution_count": 2,
   "metadata": {},
   "outputs": [],
   "source": [
    "def longest_palindromic_subsequence(string,length=0):\n",
    "    if len(string)==length:\n",
    "        return\n",
    "    \n",
    "    longest_palindromic_subsequence(string,length+1)"
   ]
  },
  {
   "cell_type": "code",
   "execution_count": 10,
   "metadata": {
    "scrolled": true
   },
   "outputs": [
    {
     "name": "stdout",
     "output_type": "stream",
     "text": [
      "Enter the string to find the Palindromic Sub-Sequence: abcd\n",
      "1\n"
     ]
    }
   ],
   "source": [
    "# from collections import default_dict\n",
    "def longest_palindromic_subsequence2(s):\n",
    "#     arr2=default_dict()\n",
    "    check=0\n",
    "    for i in range(1,(2**length)):\n",
    "        temp=bin(i)[2:]\n",
    "#         print(temp)\n",
    "        temp=bin(i)[2:][::-1]\n",
    "        x=''\n",
    "        for i in range(len(temp)):\n",
    "            if temp[i]=='1':\n",
    "                x+=s[i]\n",
    "        if x==\"\".join(reversed(x)):\n",
    "            if check<len(x):\n",
    "                check=len(x)\n",
    "    print(check)\n",
    "    \n",
    "##Calling the method\n",
    "string=input(\"Enter the string to find the Palindromic Sub-Sequence: \")\n",
    "length=len(string)\n",
    "longest_palindromic_subsequence2(string)"
   ]
  },
  {
   "cell_type": "markdown",
   "metadata": {},
   "source": [
    "# find-binary-strings-that-can-formed-from-given-wildcard-pattern"
   ]
  },
  {
   "cell_type": "code",
   "execution_count": 41,
   "metadata": {},
   "outputs": [],
   "source": [
    "def binary_string_formation(string):    \n",
    "#     arr=[]\n",
    "    count=''\n",
    "    for i in range(len(string)):\n",
    "        if string[i]=='?':\n",
    "            count+='1'\n",
    "    length_count=len(count)\n",
    "    arr=[(length_count-len(bin(i)[2:]))*\"0\"+bin(i)[2:] for i in range(int(count,2)+1)]\n",
    "\n",
    "    for i in range(len(arr)):\n",
    "        c=''\n",
    "        x=0\n",
    "        for j in range(len(string)):\n",
    "            if string[j]=='?':\n",
    "                c+=arr[i][x]\n",
    "                x+=1\n",
    "            else:\n",
    "                c+=string[j]\n",
    "        print(c)"
   ]
  },
  {
   "cell_type": "code",
   "execution_count": 48,
   "metadata": {},
   "outputs": [
    {
     "name": "stdout",
     "output_type": "stream",
     "text": [
      "1010\n",
      "1011\n",
      "1110\n",
      "1111\n"
     ]
    }
   ],
   "source": [
    "string=\"1?1?\"\n",
    "binary_string_formation(string)"
   ]
  }
 ],
 "metadata": {
  "kernelspec": {
   "display_name": "Python 3",
   "language": "python",
   "name": "python3"
  },
  "language_info": {
   "codemirror_mode": {
    "name": "ipython",
    "version": 3
   },
   "file_extension": ".py",
   "mimetype": "text/x-python",
   "name": "python",
   "nbconvert_exporter": "python",
   "pygments_lexer": "ipython3",
   "version": "3.7.5"
  }
 },
 "nbformat": 4,
 "nbformat_minor": 4
}
