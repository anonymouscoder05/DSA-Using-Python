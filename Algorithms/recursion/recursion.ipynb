{
 "cells": [
  {
   "cell_type": "markdown",
   "metadata": {},
   "source": [
    "# Calculate power using recursion a^b Fast Power  O(logn) Time complexity"
   ]
  },
  {
   "cell_type": "code",
   "execution_count": 35,
   "metadata": {},
   "outputs": [],
   "source": [
    "def fast_power(a,b):\n",
    "    if b==0:\n",
    "        return 1\n",
    "    if b&1==0:\n",
    "        return fast_power(a*a,(b//2))\n",
    "    else:\n",
    "        return a*fast_power(a,b-1)"
   ]
  },
  {
   "cell_type": "code",
   "execution_count": 37,
   "metadata": {},
   "outputs": [
    {
     "name": "stdout",
     "output_type": "stream",
     "text": [
      "Enter a:2\n",
      "Enter b:6\n",
      "64\n"
     ]
    }
   ],
   "source": [
    "a=int(input(\"Enter a:\"))\n",
    "b=int(input(\"Enter b:\"))\n",
    "print(fast_power(a,b))"
   ]
  },
  {
   "cell_type": "markdown",
   "metadata": {},
   "source": [
    "# Find paths in n*m grid"
   ]
  },
  {
   "cell_type": "code",
   "execution_count": null,
   "metadata": {},
   "outputs": [],
   "source": [
    "def findPath(n,m):\n",
    "    if n==n and m==(m-1) or n==n and m==(m-1):\n",
    "        return 1\n",
    "    findPath(n,m)"
   ]
  },
  {
   "cell_type": "markdown",
   "metadata": {},
   "source": [
    "# First Unique Character in a String"
   ]
  },
  {
   "cell_type": "code",
   "execution_count": 43,
   "metadata": {},
   "outputs": [
    {
     "name": "stdout",
     "output_type": "stream",
     "text": [
      "leetcode\n",
      "0\n"
     ]
    }
   ],
   "source": [
    "\n",
    "##One approach which is O(n^2)\n",
    "def unique_character_in_string(string):\n",
    "    for i in range(len(string)):\n",
    "        if string.count(string[i])==1:\n",
    "            print(string[i])\n",
    "            break\n",
    "import os\n",
    "import sys\n",
    "from io import BytesIO, IOBase\n",
    "from collections import defaultdict\n",
    "\n",
    "class Solution:\n",
    "    def firstUniqChar(self, s: str) -> int:\n",
    "        char_count=defaultdict()\n",
    "        for i in range(len(s)):\n",
    "            if not char_count.__contains__(s[i]):\n",
    "                char_count[s[i]]=1\n",
    "            else:\n",
    "                char_count[s[i]]+=1\n",
    "        for i in range(len(s)):\n",
    "            if char_count[s[i]]==1:\n",
    "                return i\n",
    "        return -1\n",
    "\n",
    "def main():\n",
    "    string=input()\n",
    "    print(Solution().firstUniqChar(string))\n",
    "\n",
    "if __name__ == \"__main__\":\n",
    "    main()"
   ]
  },
  {
   "cell_type": "code",
   "execution_count": null,
   "metadata": {},
   "outputs": [],
   "source": []
  }
 ],
 "metadata": {
  "kernelspec": {
   "display_name": "Python 3",
   "language": "python",
   "name": "python3"
  },
  "language_info": {
   "codemirror_mode": {
    "name": "ipython",
    "version": 3
   },
   "file_extension": ".py",
   "mimetype": "text/x-python",
   "name": "python",
   "nbconvert_exporter": "python",
   "pygments_lexer": "ipython3",
   "version": "3.7.5"
  }
 },
 "nbformat": 4,
 "nbformat_minor": 4
}
